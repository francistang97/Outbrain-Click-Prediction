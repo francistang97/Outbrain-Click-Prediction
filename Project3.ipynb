{
 "cells": [
  {
   "cell_type": "markdown",
   "metadata": {
    "collapsed": true
   },
   "source": [
    "# Outbrain Click Prediction"
   ]
  },
  {
   "cell_type": "markdown",
   "metadata": {},
   "source": [
    "### Project 3 - 158.333\n",
    "\n",
    "#### Created by Francis Tang (15053399) and Masum Billah (16389498)."
   ]
  },
  {
   "cell_type": "markdown",
   "metadata": {},
   "source": [
    "References:\n",
    "- Lecture Notes from 158.333\n",
    "- Lecture Notes from 158.222\n",
    "- Code Snippets & functions from Kernels@Kaggle\n",
    "- PySpark offical Documentation"
   ]
  },
  {
   "cell_type": "markdown",
   "metadata": {},
   "source": [
    "## I. Import Libraries and Data Loading"
   ]
  },
  {
   "cell_type": "markdown",
   "metadata": {},
   "source": [
    "### Import Libraries"
   ]
  },
  {
   "cell_type": "code",
   "execution_count": 1,
   "metadata": {
    "collapsed": true
   },
   "outputs": [],
   "source": [
    "import numpy as np # linear algebra\n",
    "import pandas as pd # data processing, CSV file I/O (e.g. pd.read_csv)\n",
    "import os\n",
    "import gc # We're gonna be clearing memory a lot\n",
    "import matplotlib.pyplot as plt\n",
    "import seaborn as sns\n",
    "from pandas import Series,DataFrame\n",
    "%matplotlib inline"
   ]
  },
  {
   "cell_type": "code",
   "execution_count": 2,
   "metadata": {
    "collapsed": true
   },
   "outputs": [],
   "source": [
    "filedir = '../datasets/'\n",
    "\n",
    "import datetime\n",
    "import time\n",
    "from sklearn import tree\n",
    "from sklearn import linear_model\n",
    "from sklearn.model_selection import train_test_split\n",
    "from sklearn.model_selection import cross_val_score\n",
    "from sklearn import ensemble\n",
    "from sklearn import svm\n",
    "from sklearn import metrics\n",
    "from sklearn import neighbors\n",
    "from sklearn.model_selection import learning_curve\n",
    "from sklearn.model_selection import ShuffleSplit\n",
    "\n",
    "N_ROWS = 1000000"
   ]
  },
  {
   "cell_type": "markdown",
   "metadata": {
    "collapsed": true
   },
   "source": [
    "### Check & Load Data"
   ]
  },
  {
   "cell_type": "code",
   "execution_count": 3,
   "metadata": {
    "collapsed": false
   },
   "outputs": [
    {
     "name": "stdout",
     "output_type": "stream",
     "text": [
      "# File sizes\n",
      "clicks_test.csv               506.0MB\n",
      "clicks_test.h5                831.0MB\n",
      "clicks_train.csv              1486.0MB\n",
      "documents_categories.csv      118.0MB\n",
      "documents_entities.csv        324.0MB\n",
      "documents_meta.csv            89.0MB\n",
      "documents_topics.csv          339.0MB\n",
      "events.csv                    1208.0MB\n",
      "page_views_sample.csv         454.0MB\n",
      "page_views_sample_geo.csv     13.0MB\n",
      "promoted_content.csv          13.0MB\n",
      "sample_submission.csv         273.0MB\n"
     ]
    }
   ],
   "source": [
    "# Checking the all the file and file size \n",
    "p = sns.color_palette()\n",
    "print('# File sizes')\n",
    "for f in os.listdir('../datasets'):\n",
    "    if 'zip' not in f:\n",
    "        print(f.ljust(30) + str(round(os.path.getsize('../datasets/' + f) / 1000000, 2)) + 'MB')"
   ]
  },
  {
   "cell_type": "markdown",
   "metadata": {},
   "source": [
    "Wow, that's a lot of data! Let's start off by looking at the clicks_train.csv and clicks_test.csv files, may be those two files contain the main things we need.\n",
    "\n",
    "Each display has a certain number of adverts. Let's look at the distribution of these advert counts, and see if they are consistent between train and test."
   ]
  },
  {
   "cell_type": "code",
   "execution_count": 5,
   "metadata": {
    "collapsed": true
   },
   "outputs": [],
   "source": [
    "df_train = pd.read_csv('../datasets/clicks_train.csv')\n",
    "df_test = pd.read_csv('../datasets/clicks_test.csv')"
   ]
  },
  {
   "cell_type": "markdown",
   "metadata": {},
   "source": [
    "## II. EDA"
   ]
  },
  {
   "cell_type": "code",
   "execution_count": 6,
   "metadata": {
    "collapsed": false
   },
   "outputs": [
    {
     "data": {
      "text/plain": [
       "<matplotlib.text.Text at 0xd3a9828>"
      ]
     },
     "execution_count": 6,
     "metadata": {},
     "output_type": "execute_result"
    },
    {
     "data": {
      "image/png": "[encoded data removed]",
      "text/plain": [
       "<matplotlib.figure.Figure at 0xd14dc50>"
      ]
     },
     "metadata": {},
     "output_type": "display_data"
    }
   ],
   "source": [
    "sizes_train = df_train.groupby('display_id')['ad_id'].count().value_counts()\n",
    "sizes_train = sizes_train / np.sum(sizes_train)\n",
    "\n",
    "plt.figure(figsize=(12,4))\n",
    "sns.barplot(sizes_train.index, sizes_train.values, alpha=0.8, color=p[0], label='train')\n",
    "\n",
    "plt.legend()\n",
    "plt.xlabel('Number of Ads in display', fontsize=12)\n",
    "plt.ylabel('Proportion of set', fontsize=12)"
   ]
  },
  {
   "cell_type": "code",
   "execution_count": 8,
   "metadata": {
    "collapsed": false
   },
   "outputs": [
    {
     "data": {
      "text/plain": [
       "<matplotlib.text.Text at 0x92640828>"
      ]
     },
     "execution_count": 8,
     "metadata": {},
     "output_type": "execute_result"
    },
    {
     "data": {
      "image/png": "[encoded data removed]",
      "text/plain": [
       "<matplotlib.figure.Figure at 0xcbc5f28>"
      ]
     },
     "metadata": {},
     "output_type": "display_data"
    }
   ],
   "source": [
    "sizes_test = df_test.groupby('display_id')['ad_id'].count().value_counts()\n",
    "sizes_test = sizes_test / np.sum(sizes_test)\n",
    "sns.barplot(sizes_test.index, sizes_test.values, alpha=0.6, color=p[1], label='test')\n",
    "plt.legend()\n",
    "plt.xlabel('Number of Ads in display', fontsize=12)\n",
    "plt.ylabel('Proportion of set', fontsize=12)"
   ]
  },
  {
   "cell_type": "markdown",
   "metadata": {},
   "source": [
    "This looks like a perfect split to me! So we can assume the distribution to be the same within the sets - no weird trickery going on here.\n",
    "\n",
    "What about adverts? How many adverts are there that are very often used, and how many are rare?"
   ]
  },
  {
   "cell_type": "code",
   "execution_count": 9,
   "metadata": {
    "collapsed": false
   },
   "outputs": [
    {
     "name": "stdout",
     "output_type": "stream",
     "text": [
      "Ads that appear less than 2 times: 22.69%\n",
      "Ads that appear less than 10 times: 61.74%\n",
      "Ads that appear less than 50 times: 86.93%\n",
      "Ads that appear less than 100 times: 91.04%\n",
      "Ads that appear less than 1000 times: 97.45%\n"
     ]
    },
    {
     "data": {
      "image/png": "[encoded data removed]",
      "text/plain": [
       "<matplotlib.figure.Figure at 0xd14d9e8>"
      ]
     },
     "metadata": {},
     "output_type": "display_data"
    }
   ],
   "source": [
    "ad_usage_train = df_train.groupby('ad_id')['ad_id'].count()\n",
    "\n",
    "for i in [2, 10, 50, 100, 1000]:\n",
    "    print('Ads that appear less than {} times: {}%'.format(i, round((ad_usage_train < i).mean() * 100, 2)))\n",
    "\n",
    "plt.figure(figsize=(12, 6))\n",
    "plt.hist(ad_usage_train.values, bins=50, log=True)\n",
    "plt.xlabel('Number of times ad appeared', fontsize=12)\n",
    "plt.ylabel('log(Count of displays with ad)', fontsize=12)\n",
    "plt.show()"
   ]
  },
  {
   "cell_type": "markdown",
   "metadata": {},
   "source": [
    "**Here we can see that a huge number of ads appear just a few times in the training set (so much that we have to use a log graph to show it), with two-thirds having less than 10 appearances. This shows us that we have to be able to predict whether someone will click on an ad not just based on the past data of that specific ad, but also by linking it to other adverts. **\n",
    "\n",
    "\n",
    "**Now we will see documents categories VS how many times it occurs**"
   ]
  },
  {
   "cell_type": "code",
   "execution_count": 10,
   "metadata": {
    "collapsed": false
   },
   "outputs": [
    {
     "name": "stdout",
     "output_type": "stream",
     "text": [
      "('Columns:', ['document_id', 'category_id', 'confidence_level'])\n",
      "('Number of unique categories:', 97)\n",
      "Number of categories that appear more than 1000 times: 88\n",
      "Number of categories that appear more than 10000 times: 65\n",
      "Number of categories that appear more than 50000 times: 35\n",
      "Number of categories that appear more than 100000 times: 15\n"
     ]
    },
    {
     "data": {
      "image/png": "[encoded data removed]",
      "text/plain": [
       "<matplotlib.figure.Figure at 0x92ba2f98>"
      ]
     },
     "metadata": {},
     "output_type": "display_data"
    }
   ],
   "source": [
    "cat = pd.read_csv('../datasets/documents_categories.csv')\n",
    "print('Columns:', cat.columns.tolist())\n",
    "print('Number of unique categories:', len(cat.category_id.unique()))\n",
    "\n",
    "cat_ids = cat.groupby('category_id')['confidence_level'].count().sort_values()\n",
    "\n",
    "for i in [1000, 10000, 50000, 100000]:\n",
    "    print('Number of categories that appear more than {} times: {}'\n",
    "          .format(i, (cat_ids > i).sum()))\n",
    "\n",
    "plt.figure(figsize=(12, 4))\n",
    "sns.barplot(cat_ids.index, cat_ids.values, order=cat_ids.index, alpha=1, color=p[3])\n",
    "plt.title('Documents Categories VS How many times it Occurences', fontsize=20)\n",
    "plt.xlabel('Document Categories', fontsize=15)\n",
    "plt.ylabel('Total occurences', fontsize=15)\n",
    "plt.show()"
   ]
  },
  {
   "cell_type": "markdown",
   "metadata": {},
   "source": [
    "** Here we can see that, Number of unique categories: 97, Number of categories that appear more than 1000 times: 88, Number of categories that appear more than 10000 times: 65 ,  Number of categories that appear more than 50000 times: 35, Number of categories that appear more than 100000 times: 15**\n",
    "\n",
    "\n",
    "\n",
    "**Now we will see Documents Topic VS How many times it occurs**"
   ]
  },
  {
   "cell_type": "code",
   "execution_count": 11,
   "metadata": {
    "collapsed": false
   },
   "outputs": [
    {
     "name": "stdout",
     "output_type": "stream",
     "text": [
      "Number of topics that appear more than 10000 times: 201\n",
      "Number of topics that appear more than 50000 times: 86\n",
      "Number of topics that appear more than 100000 times: 22\n",
      "Number of topics that appear more than 200000 times: 3\n"
     ]
    },
    {
     "data": {
      "image/png": "[encoded data removed]",
      "text/plain": [
       "<matplotlib.figure.Figure at 0xf484f98>"
      ]
     },
     "metadata": {},
     "output_type": "display_data"
    }
   ],
   "source": [
    "topics = pd.read_csv('../datasets/documents_topics.csv')\n",
    "topic_ids = topics.groupby('topic_id')['confidence_level'].count().sort_values()\n",
    "\n",
    "for i in [10000, 50000, 100000, 200000]:\n",
    "    print('Number of topics that appear more than {} times: {}'\n",
    "          .format(i, (topic_ids > i).sum()))\n",
    "\n",
    "plt.figure(figsize=(12, 4))\n",
    "sns.barplot(topic_ids.index, topic_ids.values, order=topic_ids.index, alpha=1, color=p[5])\n",
    "plt.title('Documents Topic VS How many times it Occurences', fontsize=20)\n",
    "plt.xlabel('Document Topics', fontsize=15)\n",
    "plt.ylabel('Total occurences', fontsize=15)\n",
    "plt.show()"
   ]
  },
  {
   "cell_type": "markdown",
   "metadata": {},
   "source": [
    "** Number of topics that appear more than 10000 times: 201, Number of topics that appear more than 50000 times: 86 Number of , topics that appear more than 100000 times: 22, Number of topics that appear more than 200000 times: 3 **"
   ]
  },
  {
   "cell_type": "markdown",
   "metadata": {
    "collapsed": true
   },
   "source": [
    "## III. Data Wrangling"
   ]
  },
  {
   "cell_type": "markdown",
   "metadata": {
    "collapsed": true
   },
   "source": [
    "Now we will marge the document data to promoted content, and explore some more features."
   ]
  },
  {
   "cell_type": "code",
   "execution_count": null,
   "metadata": {
    "collapsed": true
   },
   "outputs": [],
   "source": [
    "from subprocess import check_output\n",
    "#print(check_output([\"ls\", \"../datasets\"]).decode(\"utf8\"))"
   ]
  },
  {
   "cell_type": "code",
   "execution_count": 12,
   "metadata": {
    "collapsed": false
   },
   "outputs": [
    {
     "data": {
      "text/html": [
       "<div>\n",
       "<style>\n",
       "    .dataframe thead tr:only-child th {\n",
       "        text-align: right;\n",
       "    }\n",
       "\n",
       "    .dataframe thead th {\n",
       "        text-align: left;\n",
       "    }\n",
       "\n",
       "    .dataframe tbody tr th {\n",
       "        vertical-align: top;\n",
       "    }\n",
       "</style>\n",
       "<table border=\"1\" class=\"dataframe\">\n",
       "  <thead>\n",
       "    <tr style=\"text-align: right;\">\n",
       "      <th></th>\n",
       "      <th>document_id</th>\n",
       "      <th>category_id</th>\n",
       "      <th>category_confidence_level</th>\n",
       "    </tr>\n",
       "  </thead>\n",
       "  <tbody>\n",
       "    <tr>\n",
       "      <th>0</th>\n",
       "      <td>1595802</td>\n",
       "      <td>1611</td>\n",
       "      <td>0.92</td>\n",
       "    </tr>\n",
       "    <tr>\n",
       "      <th>1</th>\n",
       "      <td>1595802</td>\n",
       "      <td>1610</td>\n",
       "      <td>0.07</td>\n",
       "    </tr>\n",
       "    <tr>\n",
       "      <th>2</th>\n",
       "      <td>1524246</td>\n",
       "      <td>1807</td>\n",
       "      <td>0.92</td>\n",
       "    </tr>\n",
       "    <tr>\n",
       "      <th>3</th>\n",
       "      <td>1524246</td>\n",
       "      <td>1608</td>\n",
       "      <td>0.07</td>\n",
       "    </tr>\n",
       "    <tr>\n",
       "      <th>4</th>\n",
       "      <td>1617787</td>\n",
       "      <td>1807</td>\n",
       "      <td>0.92</td>\n",
       "    </tr>\n",
       "    <tr>\n",
       "      <th>5</th>\n",
       "      <td>1617787</td>\n",
       "      <td>1608</td>\n",
       "      <td>0.07</td>\n",
       "    </tr>\n",
       "    <tr>\n",
       "      <th>6</th>\n",
       "      <td>1615583</td>\n",
       "      <td>1305</td>\n",
       "      <td>0.92</td>\n",
       "    </tr>\n",
       "  </tbody>\n",
       "</table>\n",
       "</div>"
      ],
      "text/plain": [
       "   document_id  category_id  category_confidence_level\n",
       "0      1595802         1611                       0.92\n",
       "1      1595802         1610                       0.07\n",
       "2      1524246         1807                       0.92\n",
       "3      1524246         1608                       0.07\n",
       "4      1617787         1807                       0.92\n",
       "5      1617787         1608                       0.07\n",
       "6      1615583         1305                       0.92"
      ]
     },
     "execution_count": 12,
     "metadata": {},
     "output_type": "execute_result"
    }
   ],
   "source": [
    "# Checking the data set called documents_categories.csv\n",
    "documents_cat = pd.read_csv('../datasets/documents_categories.csv').rename(columns={'confidence_level': 'category_confidence_level'})\n",
    "documents_cat.head(7)"
   ]
  },
  {
   "cell_type": "code",
   "execution_count": 13,
   "metadata": {
    "collapsed": false
   },
   "outputs": [
    {
     "data": {
      "text/html": [
       "<div>\n",
       "<style>\n",
       "    .dataframe thead tr:only-child th {\n",
       "        text-align: right;\n",
       "    }\n",
       "\n",
       "    .dataframe thead th {\n",
       "        text-align: left;\n",
       "    }\n",
       "\n",
       "    .dataframe tbody tr th {\n",
       "        vertical-align: top;\n",
       "    }\n",
       "</style>\n",
       "<table border=\"1\" class=\"dataframe\">\n",
       "  <thead>\n",
       "    <tr style=\"text-align: right;\">\n",
       "      <th></th>\n",
       "      <th>document_id</th>\n",
       "      <th>entity_id</th>\n",
       "      <th>entity_confidence_level</th>\n",
       "    </tr>\n",
       "  </thead>\n",
       "  <tbody>\n",
       "    <tr>\n",
       "      <th>5537547</th>\n",
       "      <td>1291726</td>\n",
       "      <td>346d9349f96af98c8a5092b0f6d6d952</td>\n",
       "      <td>0.297644</td>\n",
       "    </tr>\n",
       "    <tr>\n",
       "      <th>5537548</th>\n",
       "      <td>1291726</td>\n",
       "      <td>ea1da4c578e07a535e410a30eb1cc44a</td>\n",
       "      <td>0.295476</td>\n",
       "    </tr>\n",
       "    <tr>\n",
       "      <th>5537549</th>\n",
       "      <td>1855422</td>\n",
       "      <td>896ebce354e38fd15e1097336c97e030</td>\n",
       "      <td>0.882060</td>\n",
       "    </tr>\n",
       "    <tr>\n",
       "      <th>5537550</th>\n",
       "      <td>1855422</td>\n",
       "      <td>d6cd68db952c22040956f7590da13933</td>\n",
       "      <td>0.679703</td>\n",
       "    </tr>\n",
       "    <tr>\n",
       "      <th>5537551</th>\n",
       "      <td>1855422</td>\n",
       "      <td>8532f8f7668cc8db3621a305dba9e921</td>\n",
       "      <td>0.546878</td>\n",
       "    </tr>\n",
       "  </tbody>\n",
       "</table>\n",
       "</div>"
      ],
      "text/plain": [
       "         document_id                         entity_id  \\\n",
       "5537547      1291726  346d9349f96af98c8a5092b0f6d6d952   \n",
       "5537548      1291726  ea1da4c578e07a535e410a30eb1cc44a   \n",
       "5537549      1855422  896ebce354e38fd15e1097336c97e030   \n",
       "5537550      1855422  d6cd68db952c22040956f7590da13933   \n",
       "5537551      1855422  8532f8f7668cc8db3621a305dba9e921   \n",
       "\n",
       "         entity_confidence_level  \n",
       "5537547                 0.297644  \n",
       "5537548                 0.295476  \n",
       "5537549                 0.882060  \n",
       "5537550                 0.679703  \n",
       "5537551                 0.546878  "
      ]
     },
     "execution_count": 13,
     "metadata": {},
     "output_type": "execute_result"
    }
   ],
   "source": [
    "# Checking the data set called documents_entities.csv\n",
    "documents_ent = pd.read_csv('../datasets/documents_entities.csv').rename(columns={'confidence_level': 'entity_confidence_level'})\n",
    "documents_ent.tail()"
   ]
  },
  {
   "cell_type": "code",
   "execution_count": 14,
   "metadata": {
    "collapsed": false
   },
   "outputs": [
    {
     "data": {
      "text/html": [
       "<div>\n",
       "<style>\n",
       "    .dataframe thead tr:only-child th {\n",
       "        text-align: right;\n",
       "    }\n",
       "\n",
       "    .dataframe thead th {\n",
       "        text-align: left;\n",
       "    }\n",
       "\n",
       "    .dataframe tbody tr th {\n",
       "        vertical-align: top;\n",
       "    }\n",
       "</style>\n",
       "<table border=\"1\" class=\"dataframe\">\n",
       "  <thead>\n",
       "    <tr style=\"text-align: right;\">\n",
       "      <th></th>\n",
       "      <th>document_id</th>\n",
       "      <th>source_id</th>\n",
       "      <th>publisher_id</th>\n",
       "      <th>publish_time</th>\n",
       "    </tr>\n",
       "  </thead>\n",
       "  <tbody>\n",
       "    <tr>\n",
       "      <th>0</th>\n",
       "      <td>1595802</td>\n",
       "      <td>1</td>\n",
       "      <td>603</td>\n",
       "      <td>2016-06-05 00:00:00</td>\n",
       "    </tr>\n",
       "    <tr>\n",
       "      <th>1</th>\n",
       "      <td>1524246</td>\n",
       "      <td>1</td>\n",
       "      <td>603</td>\n",
       "      <td>2016-05-26 11:00:00</td>\n",
       "    </tr>\n",
       "    <tr>\n",
       "      <th>2</th>\n",
       "      <td>1617787</td>\n",
       "      <td>1</td>\n",
       "      <td>603</td>\n",
       "      <td>2016-05-27 00:00:00</td>\n",
       "    </tr>\n",
       "    <tr>\n",
       "      <th>3</th>\n",
       "      <td>1615583</td>\n",
       "      <td>1</td>\n",
       "      <td>603</td>\n",
       "      <td>2016-06-07 00:00:00</td>\n",
       "    </tr>\n",
       "    <tr>\n",
       "      <th>4</th>\n",
       "      <td>1615460</td>\n",
       "      <td>1</td>\n",
       "      <td>603</td>\n",
       "      <td>2016-06-20 00:00:00</td>\n",
       "    </tr>\n",
       "  </tbody>\n",
       "</table>\n",
       "</div>"
      ],
      "text/plain": [
       "  document_id source_id publisher_id         publish_time\n",
       "0     1595802         1          603  2016-06-05 00:00:00\n",
       "1     1524246         1          603  2016-05-26 11:00:00\n",
       "2     1617787         1          603  2016-05-27 00:00:00\n",
       "3     1615583         1          603  2016-06-07 00:00:00\n",
       "4     1615460         1          603  2016-06-20 00:00:00"
      ]
     },
     "execution_count": 14,
     "metadata": {},
     "output_type": "execute_result"
    }
   ],
   "source": [
    "# Checking the data set called documents_meta.csv\n",
    "documents_meta = pd.read_csv('../datasets/documents_meta.csv', parse_dates=['publish_time'], dtype={'source_id': np.str, 'publisher_id': np.str, 'document_id': np.str})\n",
    "# \n",
    "documents_meta.head()"
   ]
  },
  {
   "cell_type": "markdown",
   "metadata": {},
   "source": [
    "**Something intesesting happend this data set. All the data sets has 99.99% data, hardly missing value. But documents_meta data set is totally oposite it has almost 50% missing value. we will explore more about this.**"
   ]
  },
  {
   "cell_type": "code",
   "execution_count": 15,
   "metadata": {
    "collapsed": false
   },
   "outputs": [
    {
     "data": {
      "text/html": [
       "<div>\n",
       "<style>\n",
       "    .dataframe thead tr:only-child th {\n",
       "        text-align: right;\n",
       "    }\n",
       "\n",
       "    .dataframe thead th {\n",
       "        text-align: left;\n",
       "    }\n",
       "\n",
       "    .dataframe tbody tr th {\n",
       "        vertical-align: top;\n",
       "    }\n",
       "</style>\n",
       "<table border=\"1\" class=\"dataframe\">\n",
       "  <thead>\n",
       "    <tr style=\"text-align: right;\">\n",
       "      <th></th>\n",
       "      <th>document_id</th>\n",
       "      <th>source_id</th>\n",
       "      <th>publisher_id</th>\n",
       "      <th>publish_time</th>\n",
       "    </tr>\n",
       "  </thead>\n",
       "  <tbody>\n",
       "    <tr>\n",
       "      <th>2999329</th>\n",
       "      <td>1112778</td>\n",
       "      <td>NaN</td>\n",
       "      <td>NaN</td>\n",
       "      <td>nan</td>\n",
       "    </tr>\n",
       "    <tr>\n",
       "      <th>2999330</th>\n",
       "      <td>1108348</td>\n",
       "      <td>NaN</td>\n",
       "      <td>NaN</td>\n",
       "      <td>nan</td>\n",
       "    </tr>\n",
       "    <tr>\n",
       "      <th>2999331</th>\n",
       "      <td>1121434</td>\n",
       "      <td>NaN</td>\n",
       "      <td>NaN</td>\n",
       "      <td>nan</td>\n",
       "    </tr>\n",
       "    <tr>\n",
       "      <th>2999332</th>\n",
       "      <td>1092197</td>\n",
       "      <td>NaN</td>\n",
       "      <td>NaN</td>\n",
       "      <td>nan</td>\n",
       "    </tr>\n",
       "    <tr>\n",
       "      <th>2999333</th>\n",
       "      <td>1107648</td>\n",
       "      <td>NaN</td>\n",
       "      <td>NaN</td>\n",
       "      <td>nan</td>\n",
       "    </tr>\n",
       "  </tbody>\n",
       "</table>\n",
       "</div>"
      ],
      "text/plain": [
       "        document_id source_id publisher_id publish_time\n",
       "2999329     1112778       NaN          NaN          nan\n",
       "2999330     1108348       NaN          NaN          nan\n",
       "2999331     1121434       NaN          NaN          nan\n",
       "2999332     1092197       NaN          NaN          nan\n",
       "2999333     1107648       NaN          NaN          nan"
      ]
     },
     "execution_count": 15,
     "metadata": {},
     "output_type": "execute_result"
    }
   ],
   "source": [
    "# we will just check tail to show missing value\n",
    "documents_meta.tail()"
   ]
  },
  {
   "cell_type": "code",
   "execution_count": 16,
   "metadata": {
    "collapsed": false
   },
   "outputs": [
    {
     "data": {
      "text/html": [
       "<div>\n",
       "<style>\n",
       "    .dataframe thead tr:only-child th {\n",
       "        text-align: right;\n",
       "    }\n",
       "\n",
       "    .dataframe thead th {\n",
       "        text-align: left;\n",
       "    }\n",
       "\n",
       "    .dataframe tbody tr th {\n",
       "        vertical-align: top;\n",
       "    }\n",
       "</style>\n",
       "<table border=\"1\" class=\"dataframe\">\n",
       "  <thead>\n",
       "    <tr style=\"text-align: right;\">\n",
       "      <th></th>\n",
       "      <th>document_id</th>\n",
       "      <th>topic_id</th>\n",
       "      <th>topic_confidence_level</th>\n",
       "    </tr>\n",
       "  </thead>\n",
       "  <tbody>\n",
       "    <tr>\n",
       "      <th>0</th>\n",
       "      <td>1595802</td>\n",
       "      <td>140</td>\n",
       "      <td>0.073113</td>\n",
       "    </tr>\n",
       "    <tr>\n",
       "      <th>1</th>\n",
       "      <td>1595802</td>\n",
       "      <td>16</td>\n",
       "      <td>0.059416</td>\n",
       "    </tr>\n",
       "    <tr>\n",
       "      <th>2</th>\n",
       "      <td>1595802</td>\n",
       "      <td>143</td>\n",
       "      <td>0.045421</td>\n",
       "    </tr>\n",
       "    <tr>\n",
       "      <th>3</th>\n",
       "      <td>1595802</td>\n",
       "      <td>170</td>\n",
       "      <td>0.038867</td>\n",
       "    </tr>\n",
       "    <tr>\n",
       "      <th>4</th>\n",
       "      <td>1524246</td>\n",
       "      <td>113</td>\n",
       "      <td>0.196450</td>\n",
       "    </tr>\n",
       "  </tbody>\n",
       "</table>\n",
       "</div>"
      ],
      "text/plain": [
       "  document_id topic_id  topic_confidence_level\n",
       "0     1595802      140                0.073113\n",
       "1     1595802       16                0.059416\n",
       "2     1595802      143                0.045421\n",
       "3     1595802      170                0.038867\n",
       "4     1524246      113                0.196450"
      ]
     },
     "execution_count": 16,
     "metadata": {},
     "output_type": "execute_result"
    }
   ],
   "source": [
    "# Checking the data set called documents_topics.csv\n",
    "document_topics = pd.read_csv('../datasets/documents_topics.csv', dtype={'document_id': np.str, 'topic_id': np.str}).rename(columns={'confidence_level': 'topic_confidence_level'})\n",
    "document_topics.head()"
   ]
  },
  {
   "cell_type": "code",
   "execution_count": 17,
   "metadata": {
    "collapsed": false
   },
   "outputs": [
    {
     "data": {
      "text/html": [
       "<div>\n",
       "<style>\n",
       "    .dataframe thead tr:only-child th {\n",
       "        text-align: right;\n",
       "    }\n",
       "\n",
       "    .dataframe thead th {\n",
       "        text-align: left;\n",
       "    }\n",
       "\n",
       "    .dataframe tbody tr th {\n",
       "        vertical-align: top;\n",
       "    }\n",
       "</style>\n",
       "<table border=\"1\" class=\"dataframe\">\n",
       "  <thead>\n",
       "    <tr style=\"text-align: right;\">\n",
       "      <th></th>\n",
       "      <th>ad_id</th>\n",
       "      <th>document_id</th>\n",
       "      <th>campaign_id</th>\n",
       "      <th>advertiser_id</th>\n",
       "    </tr>\n",
       "  </thead>\n",
       "  <tbody>\n",
       "    <tr>\n",
       "      <th>0</th>\n",
       "      <td>1</td>\n",
       "      <td>6614</td>\n",
       "      <td>1</td>\n",
       "      <td>7</td>\n",
       "    </tr>\n",
       "    <tr>\n",
       "      <th>1</th>\n",
       "      <td>2</td>\n",
       "      <td>471467</td>\n",
       "      <td>2</td>\n",
       "      <td>7</td>\n",
       "    </tr>\n",
       "    <tr>\n",
       "      <th>2</th>\n",
       "      <td>3</td>\n",
       "      <td>7692</td>\n",
       "      <td>3</td>\n",
       "      <td>7</td>\n",
       "    </tr>\n",
       "    <tr>\n",
       "      <th>3</th>\n",
       "      <td>4</td>\n",
       "      <td>471471</td>\n",
       "      <td>2</td>\n",
       "      <td>7</td>\n",
       "    </tr>\n",
       "    <tr>\n",
       "      <th>4</th>\n",
       "      <td>5</td>\n",
       "      <td>471472</td>\n",
       "      <td>2</td>\n",
       "      <td>7</td>\n",
       "    </tr>\n",
       "  </tbody>\n",
       "</table>\n",
       "</div>"
      ],
      "text/plain": [
       "  ad_id document_id campaign_id advertiser_id\n",
       "0     1        6614           1             7\n",
       "1     2      471467           2             7\n",
       "2     3        7692           3             7\n",
       "3     4      471471           2             7\n",
       "4     5      471472           2             7"
      ]
     },
     "execution_count": 17,
     "metadata": {},
     "output_type": "execute_result"
    }
   ],
   "source": [
    "# Checking the data set called promoted_content.csv\n",
    "promoted_content = pd.read_csv('../datasets/promoted_content.csv', dtype={'ad_id': np.str, 'document_id': np.str, 'campaign_id': np.str, 'advertiser_id': np.str})\n",
    "promoted_content.head()"
   ]
  },
  {
   "cell_type": "code",
   "execution_count": 18,
   "metadata": {
    "collapsed": false
   },
   "outputs": [
    {
     "data": {
      "text/html": [
       "<div>\n",
       "<style>\n",
       "    .dataframe thead tr:only-child th {\n",
       "        text-align: right;\n",
       "    }\n",
       "\n",
       "    .dataframe thead th {\n",
       "        text-align: left;\n",
       "    }\n",
       "\n",
       "    .dataframe tbody tr th {\n",
       "        vertical-align: top;\n",
       "    }\n",
       "</style>\n",
       "<table border=\"1\" class=\"dataframe\">\n",
       "  <thead>\n",
       "    <tr style=\"text-align: right;\">\n",
       "      <th></th>\n",
       "      <th>ad_id</th>\n",
       "      <th>document_id</th>\n",
       "      <th>campaign_id</th>\n",
       "      <th>advertiser_id</th>\n",
       "      <th>topic_id</th>\n",
       "      <th>topic_confidence_level</th>\n",
       "    </tr>\n",
       "  </thead>\n",
       "  <tbody>\n",
       "    <tr>\n",
       "      <th>0</th>\n",
       "      <td>1</td>\n",
       "      <td>6614</td>\n",
       "      <td>1</td>\n",
       "      <td>7</td>\n",
       "      <td>NaN</td>\n",
       "      <td>NaN</td>\n",
       "    </tr>\n",
       "    <tr>\n",
       "      <th>1</th>\n",
       "      <td>2</td>\n",
       "      <td>471467</td>\n",
       "      <td>2</td>\n",
       "      <td>7</td>\n",
       "      <td>89</td>\n",
       "      <td>0.122998</td>\n",
       "    </tr>\n",
       "    <tr>\n",
       "      <th>2</th>\n",
       "      <td>2</td>\n",
       "      <td>471467</td>\n",
       "      <td>2</td>\n",
       "      <td>7</td>\n",
       "      <td>26</td>\n",
       "      <td>0.081036</td>\n",
       "    </tr>\n",
       "    <tr>\n",
       "      <th>3</th>\n",
       "      <td>2</td>\n",
       "      <td>471467</td>\n",
       "      <td>2</td>\n",
       "      <td>7</td>\n",
       "      <td>143</td>\n",
       "      <td>0.066163</td>\n",
       "    </tr>\n",
       "    <tr>\n",
       "      <th>4</th>\n",
       "      <td>2</td>\n",
       "      <td>471467</td>\n",
       "      <td>2</td>\n",
       "      <td>7</td>\n",
       "      <td>258</td>\n",
       "      <td>0.013735</td>\n",
       "    </tr>\n",
       "  </tbody>\n",
       "</table>\n",
       "</div>"
      ],
      "text/plain": [
       "  ad_id document_id campaign_id advertiser_id topic_id  topic_confidence_level\n",
       "0     1        6614           1             7      NaN                     NaN\n",
       "1     2      471467           2             7       89                0.122998\n",
       "2     2      471467           2             7       26                0.081036\n",
       "3     2      471467           2             7      143                0.066163\n",
       "4     2      471467           2             7      258                0.013735"
      ]
     },
     "execution_count": 18,
     "metadata": {},
     "output_type": "execute_result"
    }
   ],
   "source": [
    "# Now marging tow data frame promoted_content and document_topics in to one called joined_df \n",
    "joined_df = pd.merge(promoted_content, document_topics, how='outer', on=['document_id'])\n",
    "joined_df.head()"
   ]
  },
  {
   "cell_type": "code",
   "execution_count": 19,
   "metadata": {
    "collapsed": false
   },
   "outputs": [
    {
     "data": {
      "text/html": [
       "<div>\n",
       "<style>\n",
       "    .dataframe thead tr:only-child th {\n",
       "        text-align: right;\n",
       "    }\n",
       "\n",
       "    .dataframe thead th {\n",
       "        text-align: left;\n",
       "    }\n",
       "\n",
       "    .dataframe tbody tr th {\n",
       "        vertical-align: top;\n",
       "    }\n",
       "</style>\n",
       "<table border=\"1\" class=\"dataframe\">\n",
       "  <thead>\n",
       "    <tr style=\"text-align: right;\">\n",
       "      <th></th>\n",
       "      <th>ad_id</th>\n",
       "      <th>document_id</th>\n",
       "      <th>campaign_id</th>\n",
       "      <th>advertiser_id</th>\n",
       "      <th>topic_id</th>\n",
       "      <th>topic_confidence_level</th>\n",
       "      <th>source_id</th>\n",
       "      <th>publisher_id</th>\n",
       "      <th>publish_time</th>\n",
       "    </tr>\n",
       "  </thead>\n",
       "  <tbody>\n",
       "    <tr>\n",
       "      <th>0</th>\n",
       "      <td>1</td>\n",
       "      <td>6614</td>\n",
       "      <td>1</td>\n",
       "      <td>7</td>\n",
       "      <td>NaN</td>\n",
       "      <td>NaN</td>\n",
       "      <td>1483</td>\n",
       "      <td>182</td>\n",
       "      <td>2010-07-09 09:00:00</td>\n",
       "    </tr>\n",
       "    <tr>\n",
       "      <th>1</th>\n",
       "      <td>2</td>\n",
       "      <td>471467</td>\n",
       "      <td>2</td>\n",
       "      <td>7</td>\n",
       "      <td>89</td>\n",
       "      <td>0.122998</td>\n",
       "      <td>1147</td>\n",
       "      <td>62</td>\n",
       "      <td>2010-06-21 00:00:00</td>\n",
       "    </tr>\n",
       "    <tr>\n",
       "      <th>2</th>\n",
       "      <td>2</td>\n",
       "      <td>471467</td>\n",
       "      <td>2</td>\n",
       "      <td>7</td>\n",
       "      <td>26</td>\n",
       "      <td>0.081036</td>\n",
       "      <td>1147</td>\n",
       "      <td>62</td>\n",
       "      <td>2010-06-21 00:00:00</td>\n",
       "    </tr>\n",
       "    <tr>\n",
       "      <th>3</th>\n",
       "      <td>2</td>\n",
       "      <td>471467</td>\n",
       "      <td>2</td>\n",
       "      <td>7</td>\n",
       "      <td>143</td>\n",
       "      <td>0.066163</td>\n",
       "      <td>1147</td>\n",
       "      <td>62</td>\n",
       "      <td>2010-06-21 00:00:00</td>\n",
       "    </tr>\n",
       "    <tr>\n",
       "      <th>4</th>\n",
       "      <td>2</td>\n",
       "      <td>471467</td>\n",
       "      <td>2</td>\n",
       "      <td>7</td>\n",
       "      <td>258</td>\n",
       "      <td>0.013735</td>\n",
       "      <td>1147</td>\n",
       "      <td>62</td>\n",
       "      <td>2010-06-21 00:00:00</td>\n",
       "    </tr>\n",
       "  </tbody>\n",
       "</table>\n",
       "</div>"
      ],
      "text/plain": [
       "  ad_id document_id campaign_id advertiser_id topic_id  \\\n",
       "0     1        6614           1             7      NaN   \n",
       "1     2      471467           2             7       89   \n",
       "2     2      471467           2             7       26   \n",
       "3     2      471467           2             7      143   \n",
       "4     2      471467           2             7      258   \n",
       "\n",
       "   topic_confidence_level source_id publisher_id         publish_time  \n",
       "0                     NaN      1483          182  2010-07-09 09:00:00  \n",
       "1                0.122998      1147           62  2010-06-21 00:00:00  \n",
       "2                0.081036      1147           62  2010-06-21 00:00:00  \n",
       "3                0.066163      1147           62  2010-06-21 00:00:00  \n",
       "4                0.013735      1147           62  2010-06-21 00:00:00  "
      ]
     },
     "execution_count": 19,
     "metadata": {},
     "output_type": "execute_result"
    }
   ],
   "source": [
    "# our Joined_df has tow data frame in there, Now I will jon another one called documents_meta in to joined_df\n",
    "joined_df = pd.merge(joined_df, documents_meta, how='outer', on=['document_id'])\n",
    "joined_df.head()"
   ]
  },
  {
   "cell_type": "code",
   "execution_count": 20,
   "metadata": {
    "collapsed": false
   },
   "outputs": [
    {
     "data": {
      "text/html": [
       "<div>\n",
       "<style>\n",
       "    .dataframe thead tr:only-child th {\n",
       "        text-align: right;\n",
       "    }\n",
       "\n",
       "    .dataframe thead th {\n",
       "        text-align: left;\n",
       "    }\n",
       "\n",
       "    .dataframe tbody tr th {\n",
       "        vertical-align: top;\n",
       "    }\n",
       "</style>\n",
       "<table border=\"1\" class=\"dataframe\">\n",
       "  <thead>\n",
       "    <tr style=\"text-align: right;\">\n",
       "      <th></th>\n",
       "      <th>ad_id</th>\n",
       "      <th>document_id</th>\n",
       "      <th>campaign_id</th>\n",
       "      <th>advertiser_id</th>\n",
       "      <th>topic_id</th>\n",
       "      <th>topic_confidence_level</th>\n",
       "      <th>source_id</th>\n",
       "      <th>publisher_id</th>\n",
       "      <th>publish_time</th>\n",
       "    </tr>\n",
       "  </thead>\n",
       "  <tbody>\n",
       "    <tr>\n",
       "      <th>13140203</th>\n",
       "      <td>NaN</td>\n",
       "      <td>1112778</td>\n",
       "      <td>NaN</td>\n",
       "      <td>NaN</td>\n",
       "      <td>NaN</td>\n",
       "      <td>NaN</td>\n",
       "      <td>NaN</td>\n",
       "      <td>NaN</td>\n",
       "      <td>nan</td>\n",
       "    </tr>\n",
       "    <tr>\n",
       "      <th>13140204</th>\n",
       "      <td>NaN</td>\n",
       "      <td>1108348</td>\n",
       "      <td>NaN</td>\n",
       "      <td>NaN</td>\n",
       "      <td>NaN</td>\n",
       "      <td>NaN</td>\n",
       "      <td>NaN</td>\n",
       "      <td>NaN</td>\n",
       "      <td>nan</td>\n",
       "    </tr>\n",
       "    <tr>\n",
       "      <th>13140205</th>\n",
       "      <td>NaN</td>\n",
       "      <td>1121434</td>\n",
       "      <td>NaN</td>\n",
       "      <td>NaN</td>\n",
       "      <td>NaN</td>\n",
       "      <td>NaN</td>\n",
       "      <td>NaN</td>\n",
       "      <td>NaN</td>\n",
       "      <td>nan</td>\n",
       "    </tr>\n",
       "    <tr>\n",
       "      <th>13140206</th>\n",
       "      <td>NaN</td>\n",
       "      <td>1092197</td>\n",
       "      <td>NaN</td>\n",
       "      <td>NaN</td>\n",
       "      <td>NaN</td>\n",
       "      <td>NaN</td>\n",
       "      <td>NaN</td>\n",
       "      <td>NaN</td>\n",
       "      <td>nan</td>\n",
       "    </tr>\n",
       "    <tr>\n",
       "      <th>13140207</th>\n",
       "      <td>NaN</td>\n",
       "      <td>1107648</td>\n",
       "      <td>NaN</td>\n",
       "      <td>NaN</td>\n",
       "      <td>NaN</td>\n",
       "      <td>NaN</td>\n",
       "      <td>NaN</td>\n",
       "      <td>NaN</td>\n",
       "      <td>nan</td>\n",
       "    </tr>\n",
       "  </tbody>\n",
       "</table>\n",
       "</div>"
      ],
      "text/plain": [
       "         ad_id document_id campaign_id advertiser_id topic_id  \\\n",
       "13140203   NaN     1112778         NaN           NaN      NaN   \n",
       "13140204   NaN     1108348         NaN           NaN      NaN   \n",
       "13140205   NaN     1121434         NaN           NaN      NaN   \n",
       "13140206   NaN     1092197         NaN           NaN      NaN   \n",
       "13140207   NaN     1107648         NaN           NaN      NaN   \n",
       "\n",
       "          topic_confidence_level source_id publisher_id publish_time  \n",
       "13140203                     NaN       NaN          NaN          nan  \n",
       "13140204                     NaN       NaN          NaN          nan  \n",
       "13140205                     NaN       NaN          NaN          nan  \n",
       "13140206                     NaN       NaN          NaN          nan  \n",
       "13140207                     NaN       NaN          NaN          nan  "
      ]
     },
     "execution_count": 20,
     "metadata": {},
     "output_type": "execute_result"
    }
   ],
   "source": [
    "joined_df.tail()"
   ]
  },
  {
   "cell_type": "markdown",
   "metadata": {
    "collapsed": true
   },
   "source": [
    "## IV. More EDA"
   ]
  },
  {
   "cell_type": "code",
   "execution_count": 89,
   "metadata": {
    "collapsed": false
   },
   "outputs": [
    {
     "data": {
      "text/html": [
       "<div>\n",
       "<style>\n",
       "    .dataframe thead tr:only-child th {\n",
       "        text-align: right;\n",
       "    }\n",
       "\n",
       "    .dataframe thead th {\n",
       "        text-align: left;\n",
       "    }\n",
       "\n",
       "    .dataframe tbody tr th {\n",
       "        vertical-align: top;\n",
       "    }\n",
       "</style>\n",
       "<table border=\"1\" class=\"dataframe\">\n",
       "  <thead>\n",
       "    <tr style=\"text-align: right;\">\n",
       "      <th></th>\n",
       "      <th>timestamp</th>\n",
       "    </tr>\n",
       "    <tr>\n",
       "      <th>display_id</th>\n",
       "      <th></th>\n",
       "    </tr>\n",
       "  </thead>\n",
       "  <tbody>\n",
       "    <tr>\n",
       "      <th>1</th>\n",
       "      <td>61</td>\n",
       "    </tr>\n",
       "    <tr>\n",
       "      <th>2</th>\n",
       "      <td>81</td>\n",
       "    </tr>\n",
       "    <tr>\n",
       "      <th>3</th>\n",
       "      <td>182</td>\n",
       "    </tr>\n",
       "    <tr>\n",
       "      <th>4</th>\n",
       "      <td>234</td>\n",
       "    </tr>\n",
       "    <tr>\n",
       "      <th>5</th>\n",
       "      <td>338</td>\n",
       "    </tr>\n",
       "  </tbody>\n",
       "</table>\n",
       "</div>"
      ],
      "text/plain": [
       "            timestamp\n",
       "display_id           \n",
       "1                  61\n",
       "2                  81\n",
       "3                 182\n",
       "4                 234\n",
       "5                 338"
      ]
     },
     "execution_count": 89,
     "metadata": {},
     "output_type": "execute_result"
    },
    {
     "name": "stdout",
     "output_type": "stream",
     "text": [
      "In [89] used 269.855 MiB RAM in 11.383s, peaked 109.527 MiB above current, total RAM usage 7307.555 MiB\n"
     ]
    }
   ],
   "source": [
    "events = pd.read_csv(\"../datasets/events.csv\", dtype=np.int32, index_col=0, usecols=[0,3])\n",
    "events.head()"
   ]
  },
  {
   "cell_type": "markdown",
   "metadata": {},
   "source": [
    "Timestamps are in milliseconds since 1970-01-01 - 1465876799998, so time zero approximately corresponds to 04:00 UTC, 14th June 2016. I'm not going to do any correction for timezones, but it's worth pointing out that this corresponds to 00:00 Eastern Daylight Time."
   ]
  },
  {
   "cell_type": "code",
   "execution_count": 88,
   "metadata": {
    "collapsed": false
   },
   "outputs": [
    {
     "name": "stdout",
     "output_type": "stream",
     "text": [
      "In [88] used 3669.590 MiB RAM in 64.456s, peaked 1912.938 MiB above current, total RAM usage 7037.699 MiB\n"
     ]
    }
   ],
   "source": [
    "train = pd.merge(pd.read_csv(\"../datasets/clicks_train.csv\", dtype=np.int32, index_col=0).sample(frac=0.1),\n",
    "                 events, left_index=True, right_index=True)\n",
    "test = pd.merge(pd.read_csv(\"../datasets/clicks_test.csv\", dtype=np.int32, index_col=0).sample(frac=0.1),\n",
    "                events, left_index=True, right_index=True)"
   ]
  },
  {
   "cell_type": "code",
   "execution_count": 91,
   "metadata": {
    "collapsed": false
   },
   "outputs": [
    {
     "data": {
      "text/plain": [
       "<matplotlib.text.Text at 0x10fb1780>"
      ]
     },
     "execution_count": 91,
     "metadata": {},
     "output_type": "execute_result"
    },
    {
     "data": {
      "image/png": "[encoded data removed]",
      "text/plain": [
       "<matplotlib.figure.Figure at 0xf4a8fd0>"
      ]
     },
     "metadata": {},
     "output_type": "display_data"
    },
    {
     "name": "stdout",
     "output_type": "stream",
     "text": [
      "In [91] used 104.023 MiB RAM in 0.775s, peaked 27.961 MiB above current, total RAM usage 1569.969 MiB\n"
     ]
    }
   ],
   "source": [
    "test[\"hour\"] = (test.timestamp // (3600 * 1000)) % 24\n",
    "test[\"day\"] = test.timestamp // (3600 * 24 * 1000)\n",
    "\n",
    "train[\"hour\"] = (train.timestamp // (3600 * 1000)) % 24\n",
    "train[\"day\"] = train.timestamp // (3600 * 24 * 1000)\n",
    "\n",
    "plt.figure(figsize=(12,4))\n",
    "train.hour.hist(bins=np.linspace(-0.5, 23.5, 25), label=\"train\", alpha=0.7, normed=True)\n",
    "test.hour.hist(bins=np.linspace(-0.5, 23.5, 25), label=\"test\", alpha=0.7, normed=True)\n",
    "plt.xlim(-0.5, 23.5)\n",
    "plt.legend(loc=\"best\")\n",
    "plt.xlabel(\"Hour of Day\")\n",
    "plt.ylabel(\"Fraction of Events\")"
   ]
  },
  {
   "cell_type": "markdown",
   "metadata": {},
   "source": [
    "The time-distribution of clicks appears consistent with the majority of the dataset being in UTC-4 to UTC-6. There appears to be a slight shift from train to test."
   ]
  },
  {
   "cell_type": "code",
   "execution_count": 92,
   "metadata": {
    "collapsed": false
   },
   "outputs": [
    {
     "data": {
      "text/plain": [
       "<matplotlib.text.Text at 0x721a19e8>"
      ]
     },
     "execution_count": 92,
     "metadata": {},
     "output_type": "execute_result"
    },
    {
     "data": {
      "image/png": "[encoded data removed]",
      "text/plain": [
       "<matplotlib.figure.Figure at 0x74cde5f8>"
      ]
     },
     "metadata": {},
     "output_type": "display_data"
    },
    {
     "name": "stdout",
     "output_type": "stream",
     "text": [
      "In [92] used 3.945 MiB RAM in 0.391s, peaked 30.230 MiB above current, total RAM usage 1573.914 MiB\n"
     ]
    }
   ],
   "source": [
    "plt.figure(figsize=(12,4))\n",
    "train.day.hist(bins=np.linspace(-.5, 14.5, 16), label=\"train\", alpha=0.7, normed=True)\n",
    "test.day.hist(bins=np.linspace(-.5, 14.5, 16), label=\"test\", alpha=0.7, normed=True)\n",
    "plt.xlim(-0.5, 14.5)\n",
    "plt.legend(loc=\"best\")\n",
    "plt.xlabel(\"Days since June 14\")\n",
    "plt.ylabel(\"Fraction of Events\")"
   ]
  },
  {
   "cell_type": "markdown",
   "metadata": {},
   "source": [
    "Now we can see the very interesting time-based train/test split. About half of the test data is sampled from the same time as the train set, with another half sampled from the two days immediately following.\n",
    "\n",
    "Next for a more detailed look at the distribution of the training data. Note again that no timezone correction has been applied, but 80% of the data are from the US."
   ]
  },
  {
   "cell_type": "code",
   "execution_count": null,
   "metadata": {
    "collapsed": true
   },
   "outputs": [],
   "source": [
    "plt.figure(figsize=(12,6))\n",
    "hour_day_counts = train.groupby([\"hour\", \"day\"]).count().ad_id.values.reshape(24,-1)\n",
    "# plot 2d hist in days and hours, with each day normalised to 1 \n",
    "plt.imshow((hour_day_counts / hour_day_counts.sum(axis=0)).T,\n",
    "           interpolation=\"none\", cmap=\"rainbow\")\n",
    "plt.xlabel(\"Hour of Day\")\n",
    "plt.ylabel(\"Days since June 14\")"
   ]
  },
  {
   "cell_type": "markdown",
   "metadata": {},
   "source": [
    "#### There is something certain files missed from my laptop so it cannot appear properly rightnow, but it worked well before so I took a screenshot below shows the result of the visualization:"
   ]
  },
  {
   "cell_type": "markdown",
   "metadata": {},
   "source": [
    "<img src=\"../notebooks/figure1.png\" />"
   ]
  },
  {
   "cell_type": "markdown",
   "metadata": {},
   "source": [
    "The weekend (days 4, 5 and 11 and 12) looks noticeably different from the weekdays -- greater proportion of late-night activity, no real peak in the early afternoon."
   ]
  },
  {
   "cell_type": "code",
   "execution_count": null,
   "metadata": {
    "collapsed": true
   },
   "outputs": [],
   "source": [
    "# for completeness, the test set too:\n",
    "plt.figure(figsize=(12,6))\n",
    "hour_day_counts = test.groupby([\"hour\", \"day\"]).count().ad_id.values.reshape(24,-1)\n",
    "# plot 2d hist in days and hours, with each day normalised to 1 \n",
    "plt.imshow((hour_day_counts / hour_day_counts.sum(axis=0)).T,\n",
    "           interpolation=\"none\", cmap=\"rainbow\")\n",
    "plt.xlabel(\"Hour of Day\")\n",
    "plt.ylabel(\"Days since June 14\")"
   ]
  },
  {
   "cell_type": "markdown",
   "metadata": {},
   "source": [
    "#### There is something certain files missed from my laptop so it cannot appear properly rightnow, but it worked well before so I took a screenshot below shows the result of the visualization:"
   ]
  },
  {
   "cell_type": "markdown",
   "metadata": {},
   "source": [
    "<img src=\"../notebooks/figure2.png\" />"
   ]
  },
  {
   "cell_type": "markdown",
   "metadata": {
    "collapsed": true
   },
   "source": [
    "### Chance of Outbrain Ads\n"
   ]
  },
  {
   "cell_type": "markdown",
   "metadata": {},
   "source": [
    "**We are going to unleash the hidden secrets immersed within the data by analyzing and visualize it**"
   ]
  },
  {
   "cell_type": "markdown",
   "metadata": {},
   "source": [
    "What's the frequency Vs the mean of each AD"
   ]
  },
  {
   "cell_type": "markdown",
   "metadata": {},
   "source": [
    "clicks_train = pd.read_csv('../datasets/clicks_train.csv')\n",
    "clicks_test  = pd.read_csv('../datasets/clicks_test.csv')\n",
    "ads_freq = clicks_train['ad_id'].value_counts()\n",
    "ads_clicked = clicks_train[clicks_train['clicked'] == 1]['ad_id'].value_counts()\n",
    "ads_average = ads_clicked.values / ads_freq[ads_clicked.index]"
   ]
  },
  {
   "cell_type": "code",
   "execution_count": 27,
   "metadata": {
    "collapsed": true
   },
   "outputs": [],
   "source": [
    "ads_freq = df_train['ad_id'].value_counts()\n",
    "ads_clicked = df_train[df_train['clicked'] == 1]['ad_id'].value_counts()\n",
    "ads_average = ads_clicked.values / ads_freq[ads_clicked.index]"
   ]
  },
  {
   "cell_type": "markdown",
   "metadata": {},
   "source": [
    "#Given the number of clicks for each ad\n",
    "#We can show the important, the max and the min values\n",
    "#This gives a clue about how values(count of clicks) is distributed\n",
    "#For me, I would guess probably it's normally distributed, but, let's see"
   ]
  },
  {
   "cell_type": "code",
   "execution_count": 28,
   "metadata": {
    "collapsed": false
   },
   "outputs": [
    {
     "data": {
      "text/plain": [
       "<matplotlib.text.Text at 0x5201e358>"
      ]
     },
     "execution_count": 28,
     "metadata": {},
     "output_type": "execute_result"
    },
    {
     "data": {
      "image/png": "[encoded data removed]",
      "text/plain": [
       "<matplotlib.figure.Figure at 0x92ed3748>"
      ]
     },
     "metadata": {},
     "output_type": "display_data"
    }
   ],
   "source": [
    "# Plot max, min values, & 2nd, 3rd quartile\n",
    "fig, (axis1) = plt.subplots(1,1,figsize=(12,5))\n",
    "sns.boxplot([ads_clicked], ax=axis1)\n",
    "#axis1.set(xlabel='Frequency for count of clicks',fontsize=15)\n",
    "plt.xlabel('Frequency for count of clicks', fontsize=20)"
   ]
  },
  {
   "cell_type": "markdown",
   "metadata": {},
   "source": [
    "From the graph above we can see that \n",
    "Huummm, It seems most of the ad clicks lies between 1 and 10000,  and few of them lies after 10000, Isn't it? But, this doesn't clearly show the frequency for ad clicks . The frequency for count of clicks stops at almost 45000 click,"
   ]
  },
  {
   "cell_type": "markdown",
   "metadata": {},
   "source": [
    "Plot frequency for clicks on ads.\n",
    "\n",
    "And because there are many values(small) that just appeared a few times, and few values(large) that appeared so much,thus, we had to use Log to show all of them."
   ]
  },
  {
   "cell_type": "code",
   "execution_count": 29,
   "metadata": {
    "collapsed": false
   },
   "outputs": [
    {
     "data": {
      "text/plain": [
       "<matplotlib.axes._subplots.AxesSubplot at 0xfc2a0f0>"
      ]
     },
     "execution_count": 29,
     "metadata": {},
     "output_type": "execute_result"
    },
    {
     "data": {
      "image/png": "[encoded data removed]",
      "text/plain": [
       "<matplotlib.figure.Figure at 0x92896780>"
      ]
     },
     "metadata": {},
     "output_type": "display_data"
    }
   ],
   "source": [
    "fig, (axis1, axis2) = plt.subplots(2,1,figsize=(12,8))\n",
    "ads_clicked.plot(kind='hist',bins=50,log=True,ax=axis1)\n",
    "plt.ylabel('Log10(Frequency)', fontsize=15)\n",
    "plt.xlabel('Clicks Count', fontsize=19)\n",
    "\n",
    "# Plot the average of clicks and the standard deviation\n",
    "# This is a huge std!. According to the empirical rule (given mean=66 & std=578):\n",
    "# 68% of the clicks where between 66 - 578 and 66 + 578 clicks.\n",
    "# 95% of the clicks where between 66 - 2 X (578) and 66 + 2 X (578) clicks.\n",
    "# 98% of the clicks where between 66 - 3 X (578) and 66 + 3 X (578) clicks.\n",
    "Series(ads_clicked.mean()).plot(yerr=ads_clicked.std(),kind='bar',legend=False, ax=axis2)"
   ]
  },
  {
   "cell_type": "markdown",
   "metadata": {},
   "source": [
    "**Now we will explore the percentage of ads that were clicked less than(or equal) X times**"
   ]
  },
  {
   "cell_type": "code",
   "execution_count": 30,
   "metadata": {
    "collapsed": false
   },
   "outputs": [
    {
     "data": {
      "text/plain": [
       "<matplotlib.text.Text at 0x92e4e7f0>"
      ]
     },
     "execution_count": 30,
     "metadata": {},
     "output_type": "execute_result"
    },
    {
     "data": {
      "image/png": "[encoded data removed]",
      "text/plain": [
       "<matplotlib.figure.Figure at 0x11094a58>"
      ]
     },
     "metadata": {},
     "output_type": "display_data"
    }
   ],
   "source": [
    "ads_perc = Series()\n",
    "for i in [2, 10, 50, 100, 1000, 5000]:\n",
    "    ads_perc[str(i)] = round((ads_clicked.values <= i).mean() * 100, 2)\n",
    "\n",
    "ax = ads_perc.plot(kind='bar', figsize=(12,3), colormap=\"summer\")\n",
    "plt.ylabel('Percentage', fontsize=20)\n",
    "plt.xlabel('Clicks Count', fontsize=20)"
   ]
  },
  {
   "cell_type": "markdown",
   "metadata": {},
   "source": [
    "while there is a good presence for the freqeuncy for count of views after.\n",
    "now we will see the actual clicks VS views"
   ]
  },
  {
   "cell_type": "code",
   "execution_count": 31,
   "metadata": {
    "collapsed": false
   },
   "outputs": [
    {
     "data": {
      "text/plain": [
       "<matplotlib.text.Text at 0x10173470>"
      ]
     },
     "execution_count": 31,
     "metadata": {},
     "output_type": "execute_result"
    },
    {
     "data": {
      "image/png": "[encoded data removed]",
      "text/plain": [
       "<matplotlib.figure.Figure at 0xfbc1a20>"
      ]
     },
     "metadata": {},
     "output_type": "display_data"
    }
   ],
   "source": [
    "fig, (axis1) = plt.subplots(1,1,figsize=(12,5))\n",
    "\n",
    "ads_clicked.name = 'Frequency for count of clicks'\n",
    "ads_freq.name =  'Frequency for count of views'\n",
    "\n",
    "ads_clicked.plot(kind='hist',bins=50,normed=True,log=True,color='indianred',alpha=0.5,legend=True)\n",
    "ads_freq.plot(kind='hist',bins=50,normed=True,log=True,alpha=0.5,legend=True)\n",
    "#axis1.set(ylabel='Log10(Frequency)', xlabel='Count of Clicks')\n",
    "\n",
    "plt.title('Actual clicks VS Views', fontsize=22)\n",
    "plt.ylabel('Log10(Frequency)', fontsize=20)\n",
    "plt.xlabel('Clicks Count', fontsize=20)"
   ]
  },
  {
   "cell_type": "markdown",
   "metadata": {},
   "source": [
    "## V. Classification & Modelling"
   ]
  },
  {
   "cell_type": "code",
   "execution_count": 36,
   "metadata": {
    "collapsed": true
   },
   "outputs": [],
   "source": [
    "#load events, clicks_train, promoted_content and page_views_sample csv's\n",
    "events_df = pd.read_csv(filedir+'events.csv', nrows=N_ROWS)\n",
    "promoted_content_df = pd.read_csv(filedir+'promoted_content.csv', nrows=N_ROWS)\n",
    "promoted_content_df = promoted_content_df.rename(columns={'document_id': 'ad_document_id'})\n",
    "clicks_train_df = pd.read_csv(filedir+'clicks_train.csv', nrows=N_ROWS)\n",
    "page_views_sample_df = pd.read_csv(filedir+'page_views_sample.csv', usecols=['uuid','document_id', 'timestamp', 'traffic_source'], nrows=N_ROWS)"
   ]
  },
  {
   "cell_type": "code",
   "execution_count": 37,
   "metadata": {
    "collapsed": false
   },
   "outputs": [
    {
     "name": "stdout",
     "output_type": "stream",
     "text": [
      "        display_id            uuid  document_id  timestamp platform  \\\n",
      "0                1  cb8c55702adb93       379743         61        3   \n",
      "1                1  cb8c55702adb93       379743         61        3   \n",
      "2                1  cb8c55702adb93       379743         61        3   \n",
      "3                1  cb8c55702adb93       379743         61        3   \n",
      "4                1  cb8c55702adb93       379743         61        3   \n",
      "5                1  cb8c55702adb93       379743         61        3   \n",
      "6                2  79a85fa78311b9      1794259         81        2   \n",
      "7                2  79a85fa78311b9      1794259         81        2   \n",
      "8                2  79a85fa78311b9      1794259         81        2   \n",
      "9                2  79a85fa78311b9      1794259         81        2   \n",
      "10               3  822932ce3d8757      1179111        182        2   \n",
      "11               3  822932ce3d8757      1179111        182        2   \n",
      "12               3  822932ce3d8757      1179111        182        2   \n",
      "13               3  822932ce3d8757      1179111        182        2   \n",
      "14               3  822932ce3d8757      1179111        182        2   \n",
      "15               3  822932ce3d8757      1179111        182        2   \n",
      "16               4  85281d0a49f7ac      1777797        234        2   \n",
      "17               4  85281d0a49f7ac      1777797        234        2   \n",
      "18               4  85281d0a49f7ac      1777797        234        2   \n",
      "19               4  85281d0a49f7ac      1777797        234        2   \n",
      "20               4  85281d0a49f7ac      1777797        234        2   \n",
      "21               5  8d0daef4bf5b56       252458        338        2   \n",
      "22               5  8d0daef4bf5b56       252458        338        2   \n",
      "23               5  8d0daef4bf5b56       252458        338        2   \n",
      "24               5  8d0daef4bf5b56       252458        338        2   \n",
      "25               5  8d0daef4bf5b56       252458        338        2   \n",
      "26               6  7765b4faae4ad4      1773517        395        3   \n",
      "27               6  7765b4faae4ad4      1773517        395        3   \n",
      "28               6  7765b4faae4ad4      1773517        395        3   \n",
      "29               6  7765b4faae4ad4      1773517        395        3   \n",
      "...            ...             ...          ...        ...      ...   \n",
      "999970      195910  e1de457d3aac11      1179111   20943235        2   \n",
      "999971      195910  e1de457d3aac11      1179111   20943235        2   \n",
      "999972      195910  e1de457d3aac11      1179111   20943235        2   \n",
      "999973      195910  e1de457d3aac11      1179111   20943235        2   \n",
      "999974      195911  5d76970a0d78e4      1750239   20943331        1   \n",
      "999975      195911  5d76970a0d78e4      1750239   20943331        1   \n",
      "999976      195911  5d76970a0d78e4      1750239   20943331        1   \n",
      "999977      195911  5d76970a0d78e4      1750239   20943331        1   \n",
      "999978      195911  5d76970a0d78e4      1750239   20943331        1   \n",
      "999979      195911  5d76970a0d78e4      1750239   20943331        1   \n",
      "999980      195912  aebe586bc96282      1776635   20943355        3   \n",
      "999981      195912  aebe586bc96282      1776635   20943355        3   \n",
      "999982      195912  aebe586bc96282      1776635   20943355        3   \n",
      "999983      195913  6962ff57ce7cdb      1145057   20943411        2   \n",
      "999984      195913  6962ff57ce7cdb      1145057   20943411        2   \n",
      "999985      195913  6962ff57ce7cdb      1145057   20943411        2   \n",
      "999986      195913  6962ff57ce7cdb      1145057   20943411        2   \n",
      "999987      195913  6962ff57ce7cdb      1145057   20943411        2   \n",
      "999988      195914  5b524beb1c76bc       997751   20943478        2   \n",
      "999989      195914  5b524beb1c76bc       997751   20943478        2   \n",
      "999990      195914  5b524beb1c76bc       997751   20943478        2   \n",
      "999991      195914  5b524beb1c76bc       997751   20943478        2   \n",
      "999992      195915  d5e30bcce8ba52      1282987   20943509        2   \n",
      "999993      195915  d5e30bcce8ba52      1282987   20943509        2   \n",
      "999994      195915  d5e30bcce8ba52      1282987   20943509        2   \n",
      "999995      195915  d5e30bcce8ba52      1282987   20943509        2   \n",
      "999996      195915  d5e30bcce8ba52      1282987   20943509        2   \n",
      "999997      195916  a1ba8f686b1589       339708   20943747        2   \n",
      "999998      195916  a1ba8f686b1589       339708   20943747        2   \n",
      "999999      195916  a1ba8f686b1589       339708   20943747        2   \n",
      "\n",
      "       geo_location     ad_id  clicked  \n",
      "0         US>SC>519   42337.0      0.0  \n",
      "1         US>SC>519  139684.0      0.0  \n",
      "2         US>SC>519  144739.0      1.0  \n",
      "3         US>SC>519  156824.0      0.0  \n",
      "4         US>SC>519  279295.0      0.0  \n",
      "5         US>SC>519  296965.0      0.0  \n",
      "6         US>CA>807  125211.0      0.0  \n",
      "7         US>CA>807  156535.0      0.0  \n",
      "8         US>CA>807  169564.0      0.0  \n",
      "9         US>CA>807  308455.0      1.0  \n",
      "10        US>MI>505   71547.0      0.0  \n",
      "11        US>MI>505   95814.0      0.0  \n",
      "12        US>MI>505  152141.0      0.0  \n",
      "13        US>MI>505  183846.0      0.0  \n",
      "14        US>MI>505  228657.0      1.0  \n",
      "15        US>MI>505  250082.0      0.0  \n",
      "16        US>WV>564  149930.0      0.0  \n",
      "17        US>WV>564  153623.0      1.0  \n",
      "18        US>WV>564  184709.0      0.0  \n",
      "19        US>WV>564  186849.0      0.0  \n",
      "20        US>WV>564  233730.0      0.0  \n",
      "21            SG>00   54606.0      0.0  \n",
      "22            SG>00  162868.0      0.0  \n",
      "23            SG>00  184548.0      0.0  \n",
      "24            SG>00  282674.0      0.0  \n",
      "25            SG>00  326514.0      1.0  \n",
      "26        US>OH>510   85397.0      0.0  \n",
      "27        US>OH>510  160754.0      0.0  \n",
      "28        US>OH>510  173388.0      0.0  \n",
      "29        US>OH>510  175234.0      1.0  \n",
      "...             ...       ...      ...  \n",
      "999970        IN>28  125833.0      0.0  \n",
      "999971        IN>28  224938.0      0.0  \n",
      "999972        IN>28  238431.0      0.0  \n",
      "999973        IN>28  262596.0      0.0  \n",
      "999974        TH>40   63334.0      0.0  \n",
      "999975        TH>40   70957.0      0.0  \n",
      "999976        TH>40  145148.0      0.0  \n",
      "999977        TH>40  257861.0      1.0  \n",
      "999978        TH>40  262784.0      0.0  \n",
      "999979        TH>40  280416.0      0.0  \n",
      "999980    US>CT>533  101249.0      0.0  \n",
      "999981    US>CT>533  107715.0      0.0  \n",
      "999982    US>CT>533  193952.0      1.0  \n",
      "999983           GB   12868.0      0.0  \n",
      "999984           GB   18194.0      1.0  \n",
      "999985           GB   30359.0      0.0  \n",
      "999986           GB   75781.0      0.0  \n",
      "999987           GB  206786.0      0.0  \n",
      "999988    US>WA>819  149291.0      0.0  \n",
      "999989    US>WA>819  183114.0      0.0  \n",
      "999990    US>WA>819  184038.0      1.0  \n",
      "999991    US>WA>819  311411.0      0.0  \n",
      "999992    US>GA>567    7546.0      0.0  \n",
      "999993    US>GA>567   16065.0      0.0  \n",
      "999994    US>GA>567  134056.0      1.0  \n",
      "999995    US>GA>567  219584.0      0.0  \n",
      "999996    US>GA>567  326074.0      0.0  \n",
      "999997        GB>H8    7242.0      0.0  \n",
      "999998        GB>H8  210454.0      0.0  \n",
      "999999        GB>H8  254269.0      0.0  \n",
      "\n",
      "[999964 rows x 8 columns]\n"
     ]
    }
   ],
   "source": [
    "#merge events and clicks_train on display_id value\n",
    "#in order to find what ad was clicked for each event/display_id\n",
    "#this links platform and geo_location data to each ad that was clicked\n",
    "events_x_clicks_train_df = pd.merge(events_df, clicks_train_df, on='display_id', how='outer').dropna()\n",
    "print(events_x_clicks_train_df)"
   ]
  },
  {
   "cell_type": "code",
   "execution_count": 38,
   "metadata": {
    "collapsed": false
   },
   "outputs": [
    {
     "data": {
      "text/plain": [
       "0         519.0\n",
       "1         519.0\n",
       "2         519.0\n",
       "3         519.0\n",
       "4         519.0\n",
       "5         519.0\n",
       "6         807.0\n",
       "7         807.0\n",
       "8         807.0\n",
       "9         807.0\n",
       "10        505.0\n",
       "11        505.0\n",
       "12        505.0\n",
       "13        505.0\n",
       "14        505.0\n",
       "15        505.0\n",
       "16        564.0\n",
       "17        564.0\n",
       "18        564.0\n",
       "19        564.0\n",
       "20        564.0\n",
       "21          0.0\n",
       "22          0.0\n",
       "23          0.0\n",
       "24          0.0\n",
       "25          0.0\n",
       "26        510.0\n",
       "27        510.0\n",
       "28        510.0\n",
       "29        510.0\n",
       "          ...  \n",
       "999970     28.0\n",
       "999971     28.0\n",
       "999972     28.0\n",
       "999973     28.0\n",
       "999974     40.0\n",
       "999975     40.0\n",
       "999976     40.0\n",
       "999977     40.0\n",
       "999978     40.0\n",
       "999979     40.0\n",
       "999980    533.0\n",
       "999981    533.0\n",
       "999982    533.0\n",
       "999983      NaN\n",
       "999984      NaN\n",
       "999985      NaN\n",
       "999986      NaN\n",
       "999987      NaN\n",
       "999988    819.0\n",
       "999989    819.0\n",
       "999990    819.0\n",
       "999991    819.0\n",
       "999992    567.0\n",
       "999993    567.0\n",
       "999994    567.0\n",
       "999995    567.0\n",
       "999996    567.0\n",
       "999997      8.0\n",
       "999998      8.0\n",
       "999999      8.0\n",
       "Name: geo_location, Length: 999964, dtype: float64"
      ]
     },
     "execution_count": 38,
     "metadata": {},
     "output_type": "execute_result"
    }
   ],
   "source": [
    "#convert geo_location to int data\n",
    "events_x_clicks_train_df['geo_location'] = events_x_clicks_train_df['geo_location'].replace('[^0-9]', '', regex=True).replace('', np.nan, regex=True)\n",
    "pd.to_numeric(events_x_clicks_train_df['geo_location'])"
   ]
  },
  {
   "cell_type": "code",
   "execution_count": 39,
   "metadata": {
    "collapsed": false
   },
   "outputs": [
    {
     "name": "stderr",
     "output_type": "stream",
     "text": [
      "C:\\Users\\feiya\\Anaconda2\\lib\\site-packages\\ipykernel_launcher.py:13: SettingWithCopyWarning: \n",
      "A value is trying to be set on a copy of a slice from a DataFrame.\n",
      "Try using .loc[row_indexer,col_indexer] = value instead\n",
      "\n",
      "See the caveats in the documentation: http://pandas.pydata.org/pandas-docs/stable/indexing.html#indexing-view-versus-copy\n",
      "  del sys.path[0]\n"
     ]
    }
   ],
   "source": [
    "#merge previous with page_views on uuid and document_id\n",
    "#in order to find traffic source for each event/display_id\n",
    "all_available_data_for_each_event = pd.merge(events_x_clicks_train_df, page_views_sample_df, on=['uuid', 'document_id','timestamp'])\n",
    "all_available_data_for_each_event = pd.merge(all_available_data_for_each_event, promoted_content_df, on='ad_id', how='outer').dropna()\n",
    "all_available_data_for_each_event = all_available_data_for_each_event.sort_values(by='display_id')\n",
    "#print(all_available_data_for_each_event)\n",
    "\n",
    "X = all_available_data_for_each_event[['display_id', 'document_id', 'timestamp', 'platform', 'geo_location', 'ad_id', 'traffic_source', 'ad_document_id', 'campaign_id', 'advertiser_id']]\n",
    "y = all_available_data_for_each_event[['clicked']]\n",
    "\n",
    "#rectify timestamp column and convert to hour of day clicked\n",
    "pd.to_numeric(X['timestamp'])\n",
    "X['true_time'] = X['timestamp']+1465876799998\n",
    "X['date'] = pd.to_datetime(X['true_time'], unit='ms')\n",
    "X['hour'] = X['date'].apply(lambda x: x.strftime('%H'))\n",
    "X = X.drop('date', axis=1)\n",
    "X = X.drop('timestamp', axis=1)\n",
    "X = X.drop('true_time', axis=1)"
   ]
  },
  {
   "cell_type": "code",
   "execution_count": 40,
   "metadata": {
    "collapsed": false
   },
   "outputs": [
    {
     "name": "stderr",
     "output_type": "stream",
     "text": [
      "C:\\Users\\feiya\\Anaconda2\\lib\\site-packages\\ipykernel_launcher.py:2: FutureWarning: convert_objects is deprecated.  Use the data-type specific converters pd.to_datetime, pd.to_timedelta and pd.to_numeric.\n",
      "  \n",
      "C:\\Users\\feiya\\Anaconda2\\lib\\site-packages\\ipykernel_launcher.py:3: FutureWarning: convert_objects is deprecated.  Use the data-type specific converters pd.to_datetime, pd.to_timedelta and pd.to_numeric.\n",
      "  This is separate from the ipykernel package so we can avoid doing imports until\n"
     ]
    }
   ],
   "source": [
    "#get platform & traffic source columns\n",
    "X['platform'] = X['platform'].astype(str).convert_objects(convert_numeric=True)\n",
    "X['traffic_source'] = X['traffic_source'].astype(str).convert_objects(convert_numeric=True)\n",
    "X['traffic_source'] = X['traffic_source'].astype(int)\n",
    "\n",
    "# Get one hot encoding of columns geo_location, platform, hour, advertiser_id, and traffic_source\n",
    "# Drop column as it is now encoded, then drop irrelevant columns\n",
    "X = X.join(pd.get_dummies(X['platform'], prefix='pl_'))\n",
    "X = X.drop('platform', axis=1)\n",
    "X = X.join(pd.get_dummies(X['geo_location'], prefix='ge_'))\n",
    "X = X.drop('geo_location', axis=1)\n",
    "X = X.join(pd.get_dummies(X['advertiser_id'], prefix='ad_'))\n",
    "X = X.drop('advertiser_id', axis=1)\n",
    "X = X.join(pd.get_dummies(X['hour'], prefix='hr_'))\n",
    "X = X.drop('hour', axis=1)\n",
    "X = X.join(pd.get_dummies(X['traffic_source'], prefix='ts_'))\n",
    "X = X.drop('traffic_source', axis=1)\n",
    "\n",
    "#X = X.join(pd.get_dummies(X['campaign_id']))\n",
    "X = X.drop('campaign_id', axis=1)\n",
    "X = X.drop('ad_id', axis=1)\n",
    "X = X.drop('document_id', axis=1)\n",
    "X = X.drop('ad_document_id', axis=1)\n",
    "X = X.drop('display_id', axis=1)"
   ]
  },
  {
   "cell_type": "markdown",
   "metadata": {},
   "source": [
    "After setting all the algorithms up, now we will explore fitting different classifiers:\n",
    "\n",
    "Firstly, we will try **Decision Trees**"
   ]
  },
  {
   "cell_type": "code",
   "execution_count": 41,
   "metadata": {
    "collapsed": false
   },
   "outputs": [
    {
     "name": "stdout",
     "output_type": "stream",
     "text": [
      "0.762359063313\n"
     ]
    }
   ],
   "source": [
    "clf = tree.DecisionTreeClassifier() \n",
    "X_train, X_test, y_train, y_test = train_test_split(X, y, test_size=0.2, random_state=2)\n",
    "clf.fit(X_train, y_train)\n",
    "print(clf.score(X_test, y_test))"
   ]
  },
  {
   "cell_type": "markdown",
   "metadata": {},
   "source": [
    "How about **Logistic Regression**?"
   ]
  },
  {
   "cell_type": "code",
   "execution_count": 42,
   "metadata": {
    "collapsed": false
   },
   "outputs": [
    {
     "name": "stderr",
     "output_type": "stream",
     "text": [
      "C:\\Users\\feiya\\Anaconda2\\lib\\site-packages\\sklearn\\utils\\validation.py:526: DataConversionWarning: A column-vector y was passed when a 1d array was expected. Please change the shape of y to (n_samples, ), for example using ravel().\n",
      "  y = column_or_1d(y, warn=True)\n"
     ]
    },
    {
     "name": "stdout",
     "output_type": "stream",
     "text": [
      "0.826539462272\n"
     ]
    }
   ],
   "source": [
    "clf = linear_model.LogisticRegression(solver='sag', multi_class='ovr') \n",
    "X_train, X_test, y_train, y_test = train_test_split(X, y, test_size=0.2, random_state=2)\n",
    "clf.fit(X_train, y_train)\n",
    "print(clf.score(X_test, y_test))"
   ]
  },
  {
   "cell_type": "code",
   "execution_count": 43,
   "metadata": {
    "collapsed": false
   },
   "outputs": [
    {
     "name": "stdout",
     "output_type": "stream",
     "text": [
      "0.825672159584\n"
     ]
    }
   ],
   "source": [
    "clf = linear_model.LogisticRegressionCV(Cs=100, fit_intercept=True, cv=None, dual=False, penalty='l2', solver='liblinear', tol=0.0001, max_iter=1000, refit=True, multi_class='ovr')\n",
    "X_train, X_test, y_train, y_test = train_test_split(X, y, test_size=0.2, random_state=2)\n",
    "clf.fit(X_train, y_train)\n",
    "print(clf.score(X_test, y_test))"
   ]
  },
  {
   "cell_type": "markdown",
   "metadata": {},
   "source": [
    "And **SGD Classifier**?"
   ]
  },
  {
   "cell_type": "code",
   "execution_count": 44,
   "metadata": {
    "collapsed": false
   },
   "outputs": [
    {
     "name": "stdout",
     "output_type": "stream",
     "text": [
      "0.776235906331\n"
     ]
    }
   ],
   "source": [
    "clf = linear_model.SGDClassifier() \n",
    "X_train, X_test, y_train, y_test = train_test_split(X, y, test_size=0.2, random_state=2)\n",
    "clf.fit(X_train, y_train)\n",
    "print(clf.score(X_test, y_test))"
   ]
  },
  {
   "cell_type": "markdown",
   "metadata": {},
   "source": [
    "Ensemble? Try **Random Forest**?"
   ]
  },
  {
   "cell_type": "code",
   "execution_count": 45,
   "metadata": {
    "collapsed": false
   },
   "outputs": [
    {
     "name": "stderr",
     "output_type": "stream",
     "text": [
      "C:\\Users\\feiya\\Anaconda2\\lib\\site-packages\\ipykernel_launcher.py:5: DataConversionWarning: A column-vector y was passed when a 1d array was expected. Please change the shape of y to (n_samples,), for example using ravel().\n",
      "  \"\"\"\n"
     ]
    },
    {
     "name": "stdout",
     "output_type": "stream",
     "text": [
      "0.810060711188\n"
     ]
    }
   ],
   "source": [
    "clf = ensemble.RandomForestClassifier(n_estimators=50, criterion='gini', max_depth=None, min_samples_split=20, \n",
    "                                      min_samples_leaf=1, min_weight_fraction_leaf=0.0, max_features='auto', \n",
    "                                      max_leaf_nodes=None, min_impurity_split=1e-02, bootstrap=True, class_weight=None)\n",
    "X_train, X_test, y_train, y_test = train_test_split(X, y, test_size=0.2, random_state=2)\n",
    "clf.fit(X_train, y_train)\n",
    "print(clf.score(X_test, y_test))"
   ]
  },
  {
   "cell_type": "markdown",
   "metadata": {},
   "source": [
    "Looks good, how about different kinds of **SVC (Support Vector Machine)**?"
   ]
  },
  {
   "cell_type": "code",
   "execution_count": 46,
   "metadata": {
    "collapsed": false
   },
   "outputs": [
    {
     "name": "stderr",
     "output_type": "stream",
     "text": [
      "C:\\Users\\feiya\\Anaconda2\\lib\\site-packages\\ipykernel_launcher.py:5: DataConversionWarning: A column-vector y was passed when a 1d array was expected. Please change the shape of y to (n_samples,), for example using ravel().\n",
      "  \"\"\"\n"
     ]
    },
    {
     "name": "stdout",
     "output_type": "stream",
     "text": [
      "0.8091934085\n"
     ]
    }
   ],
   "source": [
    "clf_svn = svm.SVC(C=1.0, cache_size=200, class_weight=None, coef0=0.0,decision_function_shape=None, degree=3, \n",
    "              gamma='auto', kernel='rbf',max_iter=-1, probability=False, random_state=None, shrinking=True,\n",
    "              tol=0.001, verbose=False)\n",
    "X_train, X_test, y_train, y_test = train_test_split(X, y, test_size=0.2, random_state=2)\n",
    "clf.fit(X_train, y_train)\n",
    "print(clf.score(X_test, y_test))"
   ]
  },
  {
   "cell_type": "code",
   "execution_count": 47,
   "metadata": {
    "collapsed": false
   },
   "outputs": [
    {
     "name": "stdout",
     "output_type": "stream",
     "text": [
      "0.811795316565\n"
     ]
    }
   ],
   "source": [
    "clf = svm.LinearSVC(penalty='l1', loss='squared_hinge', dual=False, tol=0.00001, C=1.0, multi_class='crammer_singer', \n",
    "                    fit_intercept=False, intercept_scaling=1, max_iter=2000)\n",
    "X_train, X_test, y_train, y_test = train_test_split(X, y, test_size=0.2, random_state=2)\n",
    "clf.fit(X_train, y_train)\n",
    "print(clf.score(X_test, y_test))"
   ]
  },
  {
   "cell_type": "markdown",
   "metadata": {},
   "source": [
    "Let's go for **Passive Aggressive** Classifier for a try?"
   ]
  },
  {
   "cell_type": "code",
   "execution_count": 48,
   "metadata": {
    "collapsed": false
   },
   "outputs": [
    {
     "name": "stdout",
     "output_type": "stream",
     "text": [
      "0.738074588031\n"
     ]
    }
   ],
   "source": [
    "clf = linear_model.PassiveAggressiveClassifier(C=1.0, fit_intercept=True, n_iter=5, shuffle=True, verbose=0, \n",
    "                                               loss='hinge', n_jobs=1, random_state=None, warm_start=False, class_weight=None)\n",
    "X_train, X_test, y_train, y_test = train_test_split(X, y, test_size=0.2, random_state=2)\n",
    "clf.fit(X_train, y_train)\n",
    "print(clf.score(X_test, y_test))"
   ]
  },
  {
   "cell_type": "markdown",
   "metadata": {},
   "source": [
    "How about **k-nearest neighbours (kNN)**?"
   ]
  },
  {
   "cell_type": "code",
   "execution_count": 49,
   "metadata": {
    "collapsed": false
   },
   "outputs": [
    {
     "name": "stderr",
     "output_type": "stream",
     "text": [
      "C:\\Users\\feiya\\Anaconda2\\lib\\site-packages\\ipykernel_launcher.py:4: DataConversionWarning: A column-vector y was passed when a 1d array was expected. Please change the shape of y to (n_samples, ), for example using ravel().\n",
      "  after removing the cwd from sys.path.\n"
     ]
    },
    {
     "name": "stdout",
     "output_type": "stream",
     "text": [
      "0.79618386817\n"
     ]
    }
   ],
   "source": [
    "clf = neighbors.KNeighborsClassifier(n_neighbors=5, weights='uniform', algorithm='auto', leaf_size=30, p=2, \n",
    "                                     metric='minkowski', metric_params=None, n_jobs=1)\n",
    "X_train, X_test, y_train, y_test = train_test_split(X, y, test_size=0.2, random_state=2)\n",
    "clf.fit(X_train, y_train)\n",
    "print(clf.score(X_test, y_test))"
   ]
  },
  {
   "cell_type": "markdown",
   "metadata": {},
   "source": [
    "Finally, we cannot forget **AdaBoost**!"
   ]
  },
  {
   "cell_type": "code",
   "execution_count": 50,
   "metadata": {
    "collapsed": false
   },
   "outputs": [
    {
     "name": "stdout",
     "output_type": "stream",
     "text": [
      "0.830875975716\n"
     ]
    }
   ],
   "source": [
    "clf = ensemble.AdaBoostClassifier(base_estimator=None, n_estimators=50, learning_rate=1.0, algorithm='SAMME.R', \n",
    "                                  random_state=None)\n",
    "X_train, X_test, y_train, y_test = train_test_split(X, y, test_size=0.2, random_state=2)\n",
    "clf.fit(X_train, y_train)\n",
    "print(clf.score(X_test, y_test))"
   ]
  },
  {
   "cell_type": "code",
   "execution_count": 51,
   "metadata": {
    "collapsed": false
   },
   "outputs": [
    {
     "name": "stdout",
     "output_type": "stream",
     "text": [
      "0.190871369295\n"
     ]
    }
   ],
   "source": [
    "np.set_printoptions(threshold=np.nan)\n",
    "#print(clf.predict(X_test))\n",
    "#print(y_test)\n",
    "print(metrics.f1_score(y_test, clf.predict(X_test)))"
   ]
  },
  {
   "cell_type": "code",
   "execution_count": 52,
   "metadata": {
    "collapsed": false
   },
   "outputs": [
    {
     "name": "stdout",
     "output_type": "stream",
     "text": [
      "0.82774566474\n",
      "0.207446808511\n"
     ]
    }
   ],
   "source": [
    "X_train, X_test, y_train, y_test = train_test_split(X, y, test_size=0.3, random_state=3)\n",
    "clf.fit(X_train, y_train)\n",
    "print(clf.score(X_test, y_test))\n",
    "print(metrics.f1_score(y_test, clf.predict(X_test)))"
   ]
  },
  {
   "cell_type": "code",
   "execution_count": 53,
   "metadata": {
    "collapsed": false
   },
   "outputs": [
    {
     "name": "stdout",
     "output_type": "stream",
     "text": [
      "0.816131830009\n",
      "0.217712177122\n"
     ]
    }
   ],
   "source": [
    "X_train, X_test, y_train, y_test = train_test_split(X, y, test_size=0.4, random_state=4)\n",
    "clf.fit(X_train, y_train)\n",
    "print(clf.score(X_test, y_test))\n",
    "print(metrics.f1_score(y_test, clf.predict(X_test)))"
   ]
  },
  {
   "cell_type": "markdown",
   "metadata": {},
   "source": [
    "Now, let's generate a simple plot of the test and training learning curve.\n",
    "\n",
    "Here are some desciption of the variables:\n",
    "\n",
    "**estimator** stands for the object implements the \"fit\" and \"predict\" methods.\n",
    "\n",
    "**cv** stands for cross-validation generator or and iterable. It determines the cross-validation splitting strategy.\n"
   ]
  },
  {
   "cell_type": "code",
   "execution_count": 55,
   "metadata": {
    "collapsed": false
   },
   "outputs": [
    {
     "data": {
      "image/png": "[encoded data removed]",
      "text/plain": [
       "<matplotlib.figure.Figure at 0x92e7a390>"
      ]
     },
     "metadata": {},
     "output_type": "display_data"
    },
    {
     "data": {
      "text/plain": [
       "<module 'matplotlib.pyplot' from 'C:\\Users\\feiya\\Anaconda2\\lib\\site-packages\\matplotlib\\pyplot.pyc'>"
      ]
     },
     "execution_count": 55,
     "metadata": {},
     "output_type": "execute_result"
    }
   ],
   "source": [
    "def plot_learning_curve(estimator, title, X, y, ylim=None, cv=None, n_jobs=1, train_sizes=np.linspace(.1, 1.0, 5)):\n",
    "   \n",
    "    plt.figure()\n",
    "    plt.title(title)\n",
    "    if ylim is not None:\n",
    "        plt.ylim(*ylim)\n",
    "    plt.xlabel(\"Training examples\")\n",
    "    plt.ylabel(\"Score\")\n",
    "    train_sizes, train_scores, test_scores = learning_curve(estimator, X, y, cv=cv, n_jobs=n_jobs, train_sizes=train_sizes)\n",
    "    train_scores_mean = np.mean(train_scores, axis=1)\n",
    "    train_scores_std = np.std(train_scores, axis=1)\n",
    "    test_scores_mean = np.mean(test_scores, axis=1)\n",
    "    test_scores_std = np.std(test_scores, axis=1)\n",
    "    plt.grid()\n",
    "\n",
    "    plt.fill_between(train_sizes, train_scores_mean - train_scores_std, train_scores_mean + train_scores_std, alpha=0.1, color=\"r\")\n",
    "    plt.fill_between(train_sizes, test_scores_mean - test_scores_std, test_scores_mean + test_scores_std, alpha=0.1, color=\"g\")\n",
    "    plt.plot(train_sizes, train_scores_mean, 'o-', color=\"r\", label=\"Training score\")\n",
    "    plt.plot(train_sizes, test_scores_mean, 'o-', color=\"g\", label=\"Cross-validation score\")\n",
    "    plt.legend(loc=\"best\")\n",
    "    plt.show()\n",
    "    return plt\n",
    "\n",
    "title = \"Learning Curves (Adaboost)\"\n",
    "# Cross validation with 100 iterations to get smoother mean test and train\n",
    "# score curves, each time with 20% data randomly selected as a validation set.\n",
    "cvx = ShuffleSplit(n_splits=100, test_size=0.2, random_state=0)\n",
    "y = y.as_matrix().ravel()\n",
    "#y = y.ravel()\n",
    "plot_learning_curve(clf, title, X.as_matrix(), y, ylim=(0.7, 1.01), cv=cvx, n_jobs=4)"
   ]
  },
  {
   "cell_type": "markdown",
   "metadata": {},
   "source": [
    "Now let's try the SVM, which performed well too."
   ]
  },
  {
   "cell_type": "code",
   "execution_count": 56,
   "metadata": {
    "collapsed": false
   },
   "outputs": [
    {
     "data": {
      "image/png": "[encoded data removed]",
      "text/plain": [
       "<matplotlib.figure.Figure at 0x10fc3eb8>"
      ]
     },
     "metadata": {},
     "output_type": "display_data"
    },
    {
     "data": {
      "text/plain": [
       "<module 'matplotlib.pyplot' from 'C:\\Users\\feiya\\Anaconda2\\lib\\site-packages\\matplotlib\\pyplot.pyc'>"
      ]
     },
     "execution_count": 56,
     "metadata": {},
     "output_type": "execute_result"
    }
   ],
   "source": [
    "title = \"Learning Curves (SVM, RBF kernel, $\\gamma=0.001$)\"\n",
    "# SVC is more expensive so we do a lower number of CV iterations:\n",
    "cv = ShuffleSplit(n_splits=10, test_size=0.2, random_state=0)\n",
    "estimator = svm.SVC(gamma=0.001)\n",
    "plot_learning_curve(estimator, title, X, y, (0.7, 1.01), cv=cv, n_jobs=4)"
   ]
  },
  {
   "cell_type": "markdown",
   "metadata": {},
   "source": [
    "## VI. More Feature Engineering (Combined with Hadoop)"
   ]
  },
  {
   "cell_type": "markdown",
   "metadata": {},
   "source": [
    "As we already performed many feature engineering using Hadoop (Spark and Hive), here we will just pick some interesting part and visulize the content which we cannot use matlabplot to visulize using PySpark."
   ]
  },
  {
   "cell_type": "markdown",
   "metadata": {},
   "source": [
    "Now we will import the dataset:"
   ]
  },
  {
   "cell_type": "code",
   "execution_count": 57,
   "metadata": {
    "collapsed": true
   },
   "outputs": [],
   "source": [
    "page_views_sample_df = pd.read_csv(filedir+'page_views_sample.csv', usecols=['uuid','document_id', 'timestamp', 'traffic_source', 'platform'], nrows=N_ROWS)"
   ]
  },
  {
   "cell_type": "code",
   "execution_count": 58,
   "metadata": {
    "collapsed": true
   },
   "outputs": [],
   "source": [
    "page_views_docid = page_views_sample_df['document_id'].value_counts()\n"
   ]
  },
  {
   "cell_type": "markdown",
   "metadata": {},
   "source": [
    "Similar result came out shows the popular documents which got many clicks from users."
   ]
  },
  {
   "cell_type": "code",
   "execution_count": 59,
   "metadata": {
    "collapsed": false
   },
   "outputs": [
    {
     "data": {
      "text/html": [
       "<div>\n",
       "<style>\n",
       "    .dataframe thead tr:only-child th {\n",
       "        text-align: right;\n",
       "    }\n",
       "\n",
       "    .dataframe thead th {\n",
       "        text-align: left;\n",
       "    }\n",
       "\n",
       "    .dataframe tbody tr th {\n",
       "        vertical-align: top;\n",
       "    }\n",
       "</style>\n",
       "<table border=\"1\" class=\"dataframe\">\n",
       "  <thead>\n",
       "    <tr style=\"text-align: right;\">\n",
       "      <th></th>\n",
       "      <th>document_id</th>\n",
       "    </tr>\n",
       "  </thead>\n",
       "  <tbody>\n",
       "    <tr>\n",
       "      <th>42744</th>\n",
       "      <td>156231</td>\n",
       "    </tr>\n",
       "    <tr>\n",
       "      <th>1790442</th>\n",
       "      <td>91420</td>\n",
       "    </tr>\n",
       "    <tr>\n",
       "      <th>732651</th>\n",
       "      <td>74630</td>\n",
       "    </tr>\n",
       "    <tr>\n",
       "      <th>25792</th>\n",
       "      <td>72078</td>\n",
       "    </tr>\n",
       "    <tr>\n",
       "      <th>1770064</th>\n",
       "      <td>63370</td>\n",
       "    </tr>\n",
       "    <tr>\n",
       "      <th>468335</th>\n",
       "      <td>57584</td>\n",
       "    </tr>\n",
       "    <tr>\n",
       "      <th>1669669</th>\n",
       "      <td>16858</td>\n",
       "    </tr>\n",
       "    <tr>\n",
       "      <th>1586626</th>\n",
       "      <td>10813</td>\n",
       "    </tr>\n",
       "    <tr>\n",
       "      <th>199999</th>\n",
       "      <td>10309</td>\n",
       "    </tr>\n",
       "    <tr>\n",
       "      <th>399196</th>\n",
       "      <td>10266</td>\n",
       "    </tr>\n",
       "  </tbody>\n",
       "</table>\n",
       "</div>"
      ],
      "text/plain": [
       "         document_id\n",
       "42744         156231\n",
       "1790442        91420\n",
       "732651         74630\n",
       "25792          72078\n",
       "1770064        63370\n",
       "468335         57584\n",
       "1669669        16858\n",
       "1586626        10813\n",
       "199999         10309\n",
       "399196         10266"
      ]
     },
     "execution_count": 59,
     "metadata": {},
     "output_type": "execute_result"
    }
   ],
   "source": [
    "page_views_docid_df = pd.DataFrame(page_views_docid)\n",
    "page_views_docid_df.head(10)"
   ]
  },
  {
   "cell_type": "markdown",
   "metadata": {},
   "source": [
    "How about the platform and traffic source data? Let's explore them:"
   ]
  },
  {
   "cell_type": "code",
   "execution_count": 60,
   "metadata": {
    "collapsed": false
   },
   "outputs": [
    {
     "data": {
      "text/html": [
       "<div>\n",
       "<style>\n",
       "    .dataframe thead tr:only-child th {\n",
       "        text-align: right;\n",
       "    }\n",
       "\n",
       "    .dataframe thead th {\n",
       "        text-align: left;\n",
       "    }\n",
       "\n",
       "    .dataframe tbody tr th {\n",
       "        vertical-align: top;\n",
       "    }\n",
       "</style>\n",
       "<table border=\"1\" class=\"dataframe\">\n",
       "  <thead>\n",
       "    <tr style=\"text-align: right;\">\n",
       "      <th></th>\n",
       "      <th>platform</th>\n",
       "    </tr>\n",
       "  </thead>\n",
       "  <tbody>\n",
       "    <tr>\n",
       "      <th>2</th>\n",
       "      <td>450526</td>\n",
       "    </tr>\n",
       "    <tr>\n",
       "      <th>1</th>\n",
       "      <td>446894</td>\n",
       "    </tr>\n",
       "    <tr>\n",
       "      <th>3</th>\n",
       "      <td>102580</td>\n",
       "    </tr>\n",
       "  </tbody>\n",
       "</table>\n",
       "</div>"
      ],
      "text/plain": [
       "   platform\n",
       "2    450526\n",
       "1    446894\n",
       "3    102580"
      ]
     },
     "execution_count": 60,
     "metadata": {},
     "output_type": "execute_result"
    }
   ],
   "source": [
    "page_views_pf = page_views_sample_df['platform'].value_counts()\n",
    "page_views_pf_df = pd.DataFrame(page_views_pf)\n",
    "page_views_pf_df"
   ]
  },
  {
   "cell_type": "markdown",
   "metadata": {},
   "source": [
    "Nice! So let's draw a pie chart to see how these three distribute:"
   ]
  },
  {
   "cell_type": "code",
   "execution_count": 61,
   "metadata": {
    "collapsed": false
   },
   "outputs": [
    {
     "data": {
      "image/png": "[encoded data removed]",
      "text/plain": [
       "<matplotlib.figure.Figure at 0x63ed7f98>"
      ]
     },
     "metadata": {},
     "output_type": "display_data"
    },
    {
     "data": {
      "text/plain": [
       "<matplotlib.figure.Figure at 0x767dfb00>"
      ]
     },
     "metadata": {},
     "output_type": "display_data"
    }
   ],
   "source": [
    "explode = (0.1, 0.0, 0)\n",
    "labels = 'Mobile', 'Desktop', 'Tablet'\n",
    "fig1, ax1 = plt.subplots()\n",
    "ax1.pie(page_views_pf_df, explode=explode, labels=labels, autopct='%1.1f%%',\n",
    "        shadow=True, startangle=90)\n",
    "ax1.axis('equal')  # Equal aspect ratio ensures that pie is drawn as a circle.\n",
    "plt.figure(figsize=(12, 6))\n",
    "plt.show()"
   ]
  },
  {
   "cell_type": "markdown",
   "metadata": {},
   "source": [
    "Obviously, the same as Spark gave us, Mobile is the most popular followed by Desktop."
   ]
  },
  {
   "cell_type": "code",
   "execution_count": 62,
   "metadata": {
    "collapsed": false
   },
   "outputs": [
    {
     "data": {
      "text/html": [
       "<div>\n",
       "<style>\n",
       "    .dataframe thead tr:only-child th {\n",
       "        text-align: right;\n",
       "    }\n",
       "\n",
       "    .dataframe thead th {\n",
       "        text-align: left;\n",
       "    }\n",
       "\n",
       "    .dataframe tbody tr th {\n",
       "        vertical-align: top;\n",
       "    }\n",
       "</style>\n",
       "<table border=\"1\" class=\"dataframe\">\n",
       "  <thead>\n",
       "    <tr style=\"text-align: right;\">\n",
       "      <th></th>\n",
       "      <th>traffic_source</th>\n",
       "    </tr>\n",
       "  </thead>\n",
       "  <tbody>\n",
       "    <tr>\n",
       "      <th>1</th>\n",
       "      <td>630924</td>\n",
       "    </tr>\n",
       "    <tr>\n",
       "      <th>3</th>\n",
       "      <td>202625</td>\n",
       "    </tr>\n",
       "    <tr>\n",
       "      <th>2</th>\n",
       "      <td>166451</td>\n",
       "    </tr>\n",
       "  </tbody>\n",
       "</table>\n",
       "</div>"
      ],
      "text/plain": [
       "   traffic_source\n",
       "1          630924\n",
       "3          202625\n",
       "2          166451"
      ]
     },
     "execution_count": 62,
     "metadata": {},
     "output_type": "execute_result"
    }
   ],
   "source": [
    "page_views_ts = page_views_sample_df['traffic_source'].value_counts()\n",
    "page_views_ts_df = pd.DataFrame(page_views_ts)\n",
    "page_views_ts_df"
   ]
  },
  {
   "cell_type": "code",
   "execution_count": 63,
   "metadata": {
    "collapsed": false
   },
   "outputs": [
    {
     "data": {
      "image/png": "[encoded data removed]",
      "text/plain": [
       "<matplotlib.figure.Figure at 0x767b59e8>"
      ]
     },
     "metadata": {},
     "output_type": "display_data"
    },
    {
     "data": {
      "text/plain": [
       "<matplotlib.figure.Figure at 0x1049f710>"
      ]
     },
     "metadata": {},
     "output_type": "display_data"
    }
   ],
   "source": [
    "explode = (0.1, 0.0, 0)\n",
    "labels = 'Internal', 'Social', 'Search'\n",
    "fig1, ax1 = plt.subplots()\n",
    "ax1.pie(page_views_ts_df, explode=explode, labels=labels, autopct='%1.1f%%',\n",
    "        shadow=True, startangle=90)\n",
    "ax1.axis('equal')  # Equal aspect ratio ensures that pie is drawn as a circle.\n",
    "plt.figure(figsize=(12, 6))\n",
    "plt.show()"
   ]
  },
  {
   "cell_type": "markdown",
   "metadata": {},
   "source": [
    "Lovely pie chart! Very clearly shows that internal plays a big role in the three traffic sources."
   ]
  },
  {
   "cell_type": "markdown",
   "metadata": {},
   "source": [
    "### Regional Data Exploration"
   ]
  },
  {
   "cell_type": "markdown",
   "metadata": {},
   "source": [
    "I used Hive to extract a new dataset which includes binary varibles to indicate if the row is from a specific country or not. In this case, I picked four countries from four regions: US from America, Korea from Asia, France from Europe and South Africa from Africa. Let's see how they can give us here in Jupyter:"
   ]
  },
  {
   "cell_type": "code",
   "execution_count": 64,
   "metadata": {
    "collapsed": false
   },
   "outputs": [
    {
     "data": {
      "text/html": [
       "<div>\n",
       "<style>\n",
       "    .dataframe thead tr:only-child th {\n",
       "        text-align: right;\n",
       "    }\n",
       "\n",
       "    .dataframe thead th {\n",
       "        text-align: left;\n",
       "    }\n",
       "\n",
       "    .dataframe tbody tr th {\n",
       "        vertical-align: top;\n",
       "    }\n",
       "</style>\n",
       "<table border=\"1\" class=\"dataframe\">\n",
       "  <thead>\n",
       "    <tr style=\"text-align: right;\">\n",
       "      <th></th>\n",
       "      <th>uuid</th>\n",
       "      <th>document_id</th>\n",
       "      <th>timestamp</th>\n",
       "      <th>platform</th>\n",
       "      <th>geo_location</th>\n",
       "      <th>traffic_source</th>\n",
       "      <th>uscount</th>\n",
       "      <th>frcount</th>\n",
       "      <th>krcount</th>\n",
       "      <th>sacount</th>\n",
       "    </tr>\n",
       "  </thead>\n",
       "  <tbody>\n",
       "    <tr>\n",
       "      <th>0</th>\n",
       "      <td>1fd5f051fba643</td>\n",
       "      <td>120</td>\n",
       "      <td>31905835</td>\n",
       "      <td>1</td>\n",
       "      <td>RS</td>\n",
       "      <td>2</td>\n",
       "      <td>0</td>\n",
       "      <td>0</td>\n",
       "      <td>0</td>\n",
       "      <td>0</td>\n",
       "    </tr>\n",
       "    <tr>\n",
       "      <th>1</th>\n",
       "      <td>8557aa9004be3b</td>\n",
       "      <td>120</td>\n",
       "      <td>32053104</td>\n",
       "      <td>1</td>\n",
       "      <td>VN&gt;44</td>\n",
       "      <td>2</td>\n",
       "      <td>0</td>\n",
       "      <td>0</td>\n",
       "      <td>0</td>\n",
       "      <td>0</td>\n",
       "    </tr>\n",
       "    <tr>\n",
       "      <th>2</th>\n",
       "      <td>c351b277a358f0</td>\n",
       "      <td>120</td>\n",
       "      <td>54013023</td>\n",
       "      <td>1</td>\n",
       "      <td>KR&gt;12</td>\n",
       "      <td>1</td>\n",
       "      <td>0</td>\n",
       "      <td>0</td>\n",
       "      <td>1</td>\n",
       "      <td>0</td>\n",
       "    </tr>\n",
       "    <tr>\n",
       "      <th>3</th>\n",
       "      <td>8205775c5387f9</td>\n",
       "      <td>120</td>\n",
       "      <td>44196592</td>\n",
       "      <td>1</td>\n",
       "      <td>IN&gt;16</td>\n",
       "      <td>2</td>\n",
       "      <td>0</td>\n",
       "      <td>0</td>\n",
       "      <td>0</td>\n",
       "      <td>0</td>\n",
       "    </tr>\n",
       "    <tr>\n",
       "      <th>4</th>\n",
       "      <td>9cb0ccd8458371</td>\n",
       "      <td>120</td>\n",
       "      <td>65817371</td>\n",
       "      <td>1</td>\n",
       "      <td>US&gt;CA&gt;807</td>\n",
       "      <td>2</td>\n",
       "      <td>1</td>\n",
       "      <td>0</td>\n",
       "      <td>0</td>\n",
       "      <td>0</td>\n",
       "    </tr>\n",
       "  </tbody>\n",
       "</table>\n",
       "</div>"
      ],
      "text/plain": [
       "             uuid  document_id  timestamp  platform geo_location  \\\n",
       "0  1fd5f051fba643          120   31905835         1           RS   \n",
       "1  8557aa9004be3b          120   32053104         1        VN>44   \n",
       "2  c351b277a358f0          120   54013023         1        KR>12   \n",
       "3  8205775c5387f9          120   44196592         1        IN>16   \n",
       "4  9cb0ccd8458371          120   65817371         1    US>CA>807   \n",
       "\n",
       "   traffic_source  uscount  frcount  krcount  sacount  \n",
       "0               2        0        0        0        0  \n",
       "1               2        0        0        0        0  \n",
       "2               1        0        0        1        0  \n",
       "3               2        0        0        0        0  \n",
       "4               2        1        0        0        0  "
      ]
     },
     "execution_count": 64,
     "metadata": {},
     "output_type": "execute_result"
    }
   ],
   "source": [
    "page_views_geo = pd.read_csv('../datasets/page_views_sample_geo.csv')\n",
    "page_views_geo.head(5)"
   ]
  },
  {
   "cell_type": "markdown",
   "metadata": {},
   "source": [
    "Same result came out as Spark:"
   ]
  },
  {
   "cell_type": "code",
   "execution_count": 65,
   "metadata": {
    "collapsed": false
   },
   "outputs": [
    {
     "name": "stdout",
     "output_type": "stream",
     "text": [
      "US user count:\n",
      "234794\n",
      "French user count:\n",
      "213\n",
      "Korean user count:\n",
      "154\n",
      "South African user count:\n",
      "116\n"
     ]
    }
   ],
   "source": [
    "print(\"US user count:\")\n",
    "print sum(page_views_geo['uscount'])\n",
    "print(\"French user count:\")\n",
    "print sum(page_views_geo['frcount'])\n",
    "print(\"Korean user count:\")\n",
    "print sum(page_views_geo['krcount'])\n",
    "print(\"South African user count:\")\n",
    "print sum(page_views_geo['sacount'])"
   ]
  },
  {
   "cell_type": "markdown",
   "metadata": {},
   "source": [
    "US users still play a big role in the global internet market!"
   ]
  },
  {
   "cell_type": "code",
   "execution_count": 66,
   "metadata": {
    "collapsed": false
   },
   "outputs": [
    {
     "data": {
      "text/html": [
       "<div>\n",
       "<style>\n",
       "    .dataframe thead tr:only-child th {\n",
       "        text-align: right;\n",
       "    }\n",
       "\n",
       "    .dataframe thead th {\n",
       "        text-align: left;\n",
       "    }\n",
       "\n",
       "    .dataframe tbody tr th {\n",
       "        vertical-align: top;\n",
       "    }\n",
       "</style>\n",
       "<table border=\"1\" class=\"dataframe\">\n",
       "  <thead>\n",
       "    <tr style=\"text-align: right;\">\n",
       "      <th></th>\n",
       "      <th>count</th>\n",
       "      <th>country</th>\n",
       "    </tr>\n",
       "  </thead>\n",
       "  <tbody>\n",
       "    <tr>\n",
       "      <th>0</th>\n",
       "      <td>234794</td>\n",
       "      <td>United States</td>\n",
       "    </tr>\n",
       "    <tr>\n",
       "      <th>1</th>\n",
       "      <td>213</td>\n",
       "      <td>France</td>\n",
       "    </tr>\n",
       "    <tr>\n",
       "      <th>2</th>\n",
       "      <td>154</td>\n",
       "      <td>Korea</td>\n",
       "    </tr>\n",
       "    <tr>\n",
       "      <th>3</th>\n",
       "      <td>116</td>\n",
       "      <td>South Africa</td>\n",
       "    </tr>\n",
       "  </tbody>\n",
       "</table>\n",
       "</div>"
      ],
      "text/plain": [
       "    count        country\n",
       "0  234794  United States\n",
       "1     213         France\n",
       "2     154          Korea\n",
       "3     116   South Africa"
      ]
     },
     "execution_count": 66,
     "metadata": {},
     "output_type": "execute_result"
    }
   ],
   "source": [
    "geo_user = [{'country': 'United States', 'count': 234794},\n",
    "                 {'country': 'France', 'count': 213},\n",
    "                 {'country': 'Korea', 'count': 154},\n",
    "                 {'country': 'South Africa', 'count': 116}]\n",
    "geo_user_count = pd.DataFrame(geo_user)\n",
    "geo_user_count"
   ]
  },
  {
   "cell_type": "markdown",
   "metadata": {},
   "source": [
    "Now, let's split the dataset into four smaller ones which represents a specific country:"
   ]
  },
  {
   "cell_type": "code",
   "execution_count": 67,
   "metadata": {
    "collapsed": true
   },
   "outputs": [],
   "source": [
    "usclick = (page_views_geo.loc[page_views_geo['uscount'] == 1])\n",
    "frclick = (page_views_geo.loc[page_views_geo['frcount'] == 1])\n",
    "krclick = (page_views_geo.loc[page_views_geo['krcount'] == 1])\n",
    "saclick = (page_views_geo.loc[page_views_geo['sacount'] == 1])"
   ]
  },
  {
   "cell_type": "markdown",
   "metadata": {},
   "source": [
    "Interesting! The top 3 popular document in US are 42744, 25792 and 53430. \n",
    "\n",
    "The global top 3 are 42744, 1790442, 732651. Which has the same No.1 as US but the 2nd and 3rd are out of US's top 10!"
   ]
  },
  {
   "cell_type": "code",
   "execution_count": 68,
   "metadata": {
    "collapsed": true
   },
   "outputs": [],
   "source": [
    "us_doc = usclick['document_id'].value_counts()\n",
    "us_doc_pd = pd.DataFrame(us_doc)"
   ]
  },
  {
   "cell_type": "code",
   "execution_count": 69,
   "metadata": {
    "collapsed": false
   },
   "outputs": [
    {
     "name": "stdout",
     "output_type": "stream",
     "text": [
      "US users document distribution:\n",
      "       document_id\n",
      "42744       155330\n",
      "25792        62048\n",
      "53430         3575\n",
      "87488         1171\n",
      "78535          783\n",
      "92817          694\n",
      "10653          382\n",
      "7012           369\n",
      "60040          332\n",
      "93106          296\n"
     ]
    }
   ],
   "source": [
    "print (\"US users document distribution:\")\n",
    "print us_doc_pd.head(10)"
   ]
  },
  {
   "cell_type": "code",
   "execution_count": 70,
   "metadata": {
    "collapsed": false
   },
   "outputs": [
    {
     "data": {
      "text/html": [
       "<div>\n",
       "<style>\n",
       "    .dataframe thead tr:only-child th {\n",
       "        text-align: right;\n",
       "    }\n",
       "\n",
       "    .dataframe thead th {\n",
       "        text-align: left;\n",
       "    }\n",
       "\n",
       "    .dataframe tbody tr th {\n",
       "        vertical-align: top;\n",
       "    }\n",
       "</style>\n",
       "<table border=\"1\" class=\"dataframe\">\n",
       "  <thead>\n",
       "    <tr style=\"text-align: right;\">\n",
       "      <th></th>\n",
       "      <th>count</th>\n",
       "      <th>document_id</th>\n",
       "    </tr>\n",
       "  </thead>\n",
       "  <tbody>\n",
       "    <tr>\n",
       "      <th>0</th>\n",
       "      <td>155330</td>\n",
       "      <td>42744</td>\n",
       "    </tr>\n",
       "    <tr>\n",
       "      <th>1</th>\n",
       "      <td>62048</td>\n",
       "      <td>25792</td>\n",
       "    </tr>\n",
       "    <tr>\n",
       "      <th>2</th>\n",
       "      <td>3575</td>\n",
       "      <td>53430</td>\n",
       "    </tr>\n",
       "    <tr>\n",
       "      <th>3</th>\n",
       "      <td>1171</td>\n",
       "      <td>87488</td>\n",
       "    </tr>\n",
       "    <tr>\n",
       "      <th>4</th>\n",
       "      <td>783</td>\n",
       "      <td>78535</td>\n",
       "    </tr>\n",
       "    <tr>\n",
       "      <th>5</th>\n",
       "      <td>694</td>\n",
       "      <td>92817</td>\n",
       "    </tr>\n",
       "    <tr>\n",
       "      <th>6</th>\n",
       "      <td>382</td>\n",
       "      <td>10653</td>\n",
       "    </tr>\n",
       "    <tr>\n",
       "      <th>7</th>\n",
       "      <td>369</td>\n",
       "      <td>7012</td>\n",
       "    </tr>\n",
       "    <tr>\n",
       "      <th>8</th>\n",
       "      <td>332</td>\n",
       "      <td>60040</td>\n",
       "    </tr>\n",
       "    <tr>\n",
       "      <th>9</th>\n",
       "      <td>296</td>\n",
       "      <td>93106</td>\n",
       "    </tr>\n",
       "  </tbody>\n",
       "</table>\n",
       "</div>"
      ],
      "text/plain": [
       "    count document_id\n",
       "0  155330       42744\n",
       "1   62048       25792\n",
       "2    3575       53430\n",
       "3    1171       87488\n",
       "4     783       78535\n",
       "5     694       92817\n",
       "6     382       10653\n",
       "7     369        7012\n",
       "8     332       60040\n",
       "9     296       93106"
      ]
     },
     "execution_count": 70,
     "metadata": {},
     "output_type": "execute_result"
    }
   ],
   "source": [
    "us_count = [{'document_id': '42744', 'count': 155330},\n",
    "            {'document_id': '25792', 'count': 62048},\n",
    "            {'document_id': '53430', 'count': 3575},\n",
    "            {'document_id': '87488', 'count': 1171},\n",
    "           {'document_id': '78535', 'count': 783},\n",
    "           {'document_id': '92817', 'count': 694},\n",
    "           {'document_id': '10653', 'count': 382},\n",
    "           {'document_id': '7012', 'count': 369},\n",
    "           {'document_id': '60040', 'count': 332},\n",
    "           {'document_id': '93106', 'count': 296}]\n",
    "us_count_df = pd.DataFrame(us_count)\n",
    "us_count_df"
   ]
  },
  {
   "cell_type": "code",
   "execution_count": 71,
   "metadata": {
    "collapsed": false
   },
   "outputs": [
    {
     "data": {
      "image/png": "[encoded data removed]",
      "text/plain": [
       "<matplotlib.figure.Figure at 0x1049f128>"
      ]
     },
     "metadata": {},
     "output_type": "display_data"
    }
   ],
   "source": [
    "plt.figure(figsize=(12, 5))\n",
    "sns.barplot(us_count_df['document_id'], us_count_df['count'], us_count_df['count'], alpha=1, color=p[5])\n",
    "plt.title('PageViews by Document ID in America', fontsize=20)\n",
    "plt.xlabel('Document ID', fontsize=15)\n",
    "plt.ylabel('Count', fontsize=15)\n",
    "plt.show()"
   ]
  },
  {
   "cell_type": "markdown",
   "metadata": {},
   "source": [
    "Now let's have a look with French people!"
   ]
  },
  {
   "cell_type": "code",
   "execution_count": 72,
   "metadata": {
    "collapsed": false
   },
   "outputs": [
    {
     "name": "stdout",
     "output_type": "stream",
     "text": [
      "French users document distribution:\n",
      "       document_id\n",
      "25792          132\n",
      "42744           19\n",
      "25529            5\n",
      "86498            5\n",
      "7012             5\n",
      "25345            3\n",
      "78535            3\n",
      "53430            3\n",
      "58670            2\n",
      "48785            2\n"
     ]
    }
   ],
   "source": [
    "fr_doc = frclick['document_id'].value_counts()\n",
    "fr_doc_pd = pd.DataFrame(fr_doc)\n",
    "print (\"French users document distribution:\")\n",
    "print fr_doc_pd.head(10)"
   ]
  },
  {
   "cell_type": "markdown",
   "metadata": {},
   "source": [
    "Interesting! The top 3 popular document in US are 25792, 42744 and 25529. Very close to the US! 42744 document is still very popular in France! "
   ]
  },
  {
   "cell_type": "code",
   "execution_count": 73,
   "metadata": {
    "collapsed": false
   },
   "outputs": [
    {
     "name": "stdout",
     "output_type": "stream",
     "text": [
      "Korean users document distribution:\n",
      "       document_id\n",
      "25792          128\n",
      "42744            7\n",
      "83316            3\n",
      "7012             3\n",
      "25529            2\n",
      "87488            2\n",
      "32764            1\n",
      "53430            1\n",
      "40628            1\n",
      "82587            1\n"
     ]
    }
   ],
   "source": [
    "kr_doc = krclick['document_id'].value_counts()\n",
    "kr_doc_pd = pd.DataFrame(kr_doc)\n",
    "print (\"Korean users document distribution:\")\n",
    "print kr_doc_pd.head(10)"
   ]
  },
  {
   "cell_type": "markdown",
   "metadata": {},
   "source": [
    "It is fun to see that Asia is getting closer to the Western world. 25792 and 42744 are top 2 in Korea also in US and France as well.And US 3rd 53430 is still top 10 in Korea!"
   ]
  },
  {
   "cell_type": "code",
   "execution_count": 74,
   "metadata": {
    "collapsed": false
   },
   "outputs": [
    {
     "name": "stdout",
     "output_type": "stream",
     "text": [
      "South African users document distribution:\n",
      "        document_id\n",
      "25792            70\n",
      "87488             9\n",
      "106267            5\n",
      "984               3\n",
      "49464             3\n",
      "42744             3\n",
      "78535             3\n",
      "58670             2\n",
      "44063             2\n",
      "102424            2\n"
     ]
    }
   ],
   "source": [
    "sa_doc = saclick['document_id'].value_counts()\n",
    "sa_doc_pd = pd.DataFrame(sa_doc)\n",
    "print (\"South African users document distribution:\")\n",
    "print sa_doc_pd.head(10)"
   ]
  },
  {
   "cell_type": "markdown",
   "metadata": {},
   "source": [
    "Things get a little different here in SA! Although 25792 is still the No.1, the other popular documents here seem not like that popular in other countries like France and Korea. "
   ]
  },
  {
   "cell_type": "markdown",
   "metadata": {},
   "source": [
    "There are more comparisons and data digging in our Zeppelin Notebook! It is very interesting to read and try to understand all the data, make sense of them :)"
   ]
  },
  {
   "cell_type": "markdown",
   "metadata": {},
   "source": [
    "## VIII. Bigish Data Handling (beta tested did not used)"
   ]
  },
  {
   "cell_type": "markdown",
   "metadata": {},
   "source": [
    "We tried to use the bigish data handling methods introduced in Lecture 1, it works very well but for convenience, we abandoned this and used the smaller sample dataset instead. We will show the code snippets here to show our works."
   ]
  },
  {
   "cell_type": "markdown",
   "metadata": {},
   "source": [
    "We now have a Bigish Data set that cannot fit into our System/Memory, but we can convert into an HDF5 format. Moreover, we can read into memory only portions of it that are of interest to us an to our immediate processing needs"
   ]
  },
  {
   "cell_type": "code",
   "execution_count": 75,
   "metadata": {
    "collapsed": false
   },
   "outputs": [
    {
     "name": "stdout",
     "output_type": "stream",
     "text": [
      "In [75] used 0.000 MiB RAM in 0.000s, peaked 0.000 MiB above current, total RAM usage 7661.438 MiB\n"
     ]
    }
   ],
   "source": [
    "from ipython_memwatcher import MemWatcher\n",
    "mw = MemWatcher()\n",
    "mw.start_watching_memory()\n",
    "import datetime as dt"
   ]
  },
  {
   "cell_type": "code",
   "execution_count": 76,
   "metadata": {
    "collapsed": false
   },
   "outputs": [
    {
     "data": {
      "text/html": [
       "<div>\n",
       "<style>\n",
       "    .dataframe thead tr:only-child th {\n",
       "        text-align: right;\n",
       "    }\n",
       "\n",
       "    .dataframe thead th {\n",
       "        text-align: left;\n",
       "    }\n",
       "\n",
       "    .dataframe tbody tr th {\n",
       "        vertical-align: top;\n",
       "    }\n",
       "</style>\n",
       "<table border=\"1\" class=\"dataframe\">\n",
       "  <thead>\n",
       "    <tr style=\"text-align: right;\">\n",
       "      <th></th>\n",
       "      <th>display_id</th>\n",
       "      <th>ad_id</th>\n",
       "    </tr>\n",
       "  </thead>\n",
       "  <tbody>\n",
       "    <tr>\n",
       "      <th>0</th>\n",
       "      <td>16874594</td>\n",
       "      <td>66758</td>\n",
       "    </tr>\n",
       "    <tr>\n",
       "      <th>1</th>\n",
       "      <td>16874594</td>\n",
       "      <td>150083</td>\n",
       "    </tr>\n",
       "    <tr>\n",
       "      <th>2</th>\n",
       "      <td>16874594</td>\n",
       "      <td>162754</td>\n",
       "    </tr>\n",
       "    <tr>\n",
       "      <th>3</th>\n",
       "      <td>16874594</td>\n",
       "      <td>170392</td>\n",
       "    </tr>\n",
       "    <tr>\n",
       "      <th>4</th>\n",
       "      <td>16874594</td>\n",
       "      <td>172888</td>\n",
       "    </tr>\n",
       "  </tbody>\n",
       "</table>\n",
       "</div>"
      ],
      "text/plain": [
       "   display_id   ad_id\n",
       "0    16874594   66758\n",
       "1    16874594  150083\n",
       "2    16874594  162754\n",
       "3    16874594  170392\n",
       "4    16874594  172888"
      ]
     },
     "execution_count": 76,
     "metadata": {},
     "output_type": "execute_result"
    },
    {
     "name": "stdout",
     "output_type": "stream",
     "text": [
      "In [76] used 492.961 MiB RAM in 6.915s, peaked 219.344 MiB above current, total RAM usage 8154.398 MiB\n"
     ]
    }
   ],
   "source": [
    "df = pd.read_csv('../datasets/clicks_test.csv', infer_datetime_format=True)\n",
    "df.head()"
   ]
  },
  {
   "cell_type": "code",
   "execution_count": 77,
   "metadata": {
    "collapsed": false
   },
   "outputs": [
    {
     "name": "stdout",
     "output_type": "stream",
     "text": [
      "<class 'pandas.core.frame.DataFrame'>\n",
      "RangeIndex: 32225162 entries, 0 to 32225161\n",
      "Data columns (total 2 columns):\n",
      "display_id    int64\n",
      "ad_id         int64\n",
      "dtypes: int64(2)\n",
      "memory usage: 491.7 MB\n",
      "In [77] used 0.008 MiB RAM in 0.010s, peaked 0.000 MiB above current, total RAM usage 8154.406 MiB\n"
     ]
    }
   ],
   "source": [
    "df.info()"
   ]
  },
  {
   "cell_type": "code",
   "execution_count": 78,
   "metadata": {
    "collapsed": false
   },
   "outputs": [
    {
     "name": "stdout",
     "output_type": "stream",
     "text": [
      "Wall time: 5.7 s\n",
      "In [78] used 19.645 MiB RAM in 5.705s, peaked 7.633 MiB above current, total RAM usage 8174.051 MiB\n"
     ]
    }
   ],
   "source": [
    "#We will consider looping through a dataframe that has 1M rows.\n",
    "def dataframe_access_using_iat(df):\n",
    "    for i in range(len(df)):\n",
    "        df.iat[i, 0]\n",
    "        \n",
    "%time dataframe_access_using_iat(df[:1000000])"
   ]
  },
  {
   "cell_type": "code",
   "execution_count": 79,
   "metadata": {
    "collapsed": false
   },
   "outputs": [
    {
     "name": "stdout",
     "output_type": "stream",
     "text": [
      "Wall time: 10.9 s\n",
      "In [79] used 7.910 MiB RAM in 10.870s, peaked 7.633 MiB above current, total RAM usage 8181.961 MiB\n"
     ]
    }
   ],
   "source": [
    "def dataframe_access_using_at(df):\n",
    "    for i in range(len(df)):\n",
    "        df.at[i, 'ad_id']\n",
    "\n",
    "%time dataframe_access_using_at(df[:1000000])"
   ]
  },
  {
   "cell_type": "markdown",
   "metadata": {},
   "source": [
    "** If we would not have Hive for this project ,we could have use HDF5 Technology for  this Bigish Dataset**\n",
    "\n",
    "When we work with a Big Data set , don't have HIVE Platform, this is one of the best platform to handel Bigish data. This HDF 5 convert and store them in a binary format like HDF5 (Hierarchical Data Format).\n",
    "It is a multipurpose hierarchical container format capable of storing large numerical datasets with their metadata"
   ]
  },
  {
   "cell_type": "code",
   "execution_count": 80,
   "metadata": {
    "collapsed": false
   },
   "outputs": [
    {
     "name": "stdout",
     "output_type": "stream",
     "text": [
      "Wall time: 43.5 s\n",
      "In [80] used 264.461 MiB RAM in 43.532s, peaked 469.453 MiB above current, total RAM usage 8446.422 MiB\n"
     ]
    }
   ],
   "source": [
    "%time df.to_hdf('../datasets/clicks_test.h5', '/data', format='table', mode='w', data_columns=['ad_id'])"
   ]
  },
  {
   "cell_type": "code",
   "execution_count": 81,
   "metadata": {
    "collapsed": false
   },
   "outputs": [
    {
     "data": {
      "text/plain": [
       "<class 'pandas.io.pytables.HDFStore'>\n",
       "File path: ../datasets/clicks_test.h5\n",
       "/data            frame_table  (typ->appendable,nrows->32225162,ncols->2,indexers->[index],dc->[ad_id])"
      ]
     },
     "execution_count": 81,
     "metadata": {},
     "output_type": "execute_result"
    },
    {
     "name": "stdout",
     "output_type": "stream",
     "text": [
      "In [81] used 0.066 MiB RAM in 0.033s, peaked 0.000 MiB above current, total RAM usage 8446.488 MiB\n"
     ]
    }
   ],
   "source": [
    "hdf = pd.HDFStore('../datasets/clicks_test.h5')\n",
    "hdf"
   ]
  },
  {
   "cell_type": "code",
   "execution_count": 82,
   "metadata": {
    "collapsed": false
   },
   "outputs": [
    {
     "data": {
      "text/plain": [
       "(32225162, 2)"
      ]
     },
     "execution_count": 82,
     "metadata": {},
     "output_type": "execute_result"
    },
    {
     "name": "stdout",
     "output_type": "stream",
     "text": [
      "In [82] used 737.566 MiB RAM in 0.672s, peaked 418.250 MiB above current, total RAM usage 9184.055 MiB\n"
     ]
    }
   ],
   "source": [
    "hdf['/data'].shape"
   ]
  },
  {
   "cell_type": "code",
   "execution_count": 83,
   "metadata": {
    "collapsed": false
   },
   "outputs": [
    {
     "data": {
      "text/plain": [
       "<class 'pandas.io.pytables.HDFStore'>\n",
       "File path: ../datasets/clicks_test.h5\n",
       "/data                 frame_table  (typ->appendable,nrows->32225162,ncols->2,indexers->[index],dc->[ad_id])\n",
       "/data/t1              frame        (shape->[15,2])                                                         \n",
       "/tables/t1            frame        (shape->[20,5])                                                         \n",
       "/tables/t2            frame        (shape->[10,3])                                                         "
      ]
     },
     "execution_count": 83,
     "metadata": {},
     "output_type": "execute_result"
    },
    {
     "name": "stdout",
     "output_type": "stream",
     "text": [
      "In [83] used -737.539 MiB RAM in 0.157s, peaked 737.559 MiB above current, total RAM usage 8446.516 MiB\n"
     ]
    }
   ],
   "source": [
    "hdf.put('tables/t1', pd.DataFrame(np.random.rand(20,5)))\n",
    "hdf.put('tables/t2', pd.DataFrame(np.random.rand(10,3)))\n",
    "hdf.put('data/t1', pd.DataFrame(np.random.rand(15,2)))\n",
    "hdf"
   ]
  },
  {
   "cell_type": "code",
   "execution_count": 84,
   "metadata": {
    "collapsed": false
   },
   "outputs": [
    {
     "name": "stdout",
     "output_type": "stream",
     "text": [
      "In [84] used -0.039 MiB RAM in 0.003s, peaked 0.000 MiB above current, total RAM usage 8446.477 MiB\n"
     ]
    }
   ],
   "source": [
    "# Time to close the HDF\n",
    "hdf.close()"
   ]
  },
  {
   "cell_type": "code",
   "execution_count": null,
   "metadata": {
    "collapsed": true
   },
   "outputs": [],
   "source": [
    "df = pd.read_hdf('../datasets/clicks_test.h5', '/data',columns=['display_id','ad_id'], where='ad_id > 1694')\n",
    "df.head()"
   ]
  },
  {
   "cell_type": "markdown",
   "metadata": {},
   "source": [
    "## VIII. Submission"
   ]
  },
  {
   "cell_type": "markdown",
   "metadata": {},
   "source": [
    "Here we tried different numbers of regularization, we found that 10 gets a better score than 20 (slightly different, about 0.005 differences). "
   ]
  },
  {
   "cell_type": "code",
   "execution_count": 86,
   "metadata": {
    "collapsed": false
   },
   "outputs": [
    {
     "name": "stdout",
     "output_type": "stream",
     "text": [
      "In [86] used -2834.398 MiB RAM in 925.780s, peaked 6760.070 MiB above current, total RAM usage 3443.039 MiB\n"
     ]
    }
   ],
   "source": [
    "reg = 10\n",
    "#reg = 20\n",
    "\n",
    "train = pd.read_csv(\"../datasets/clicks_train.csv\")\n",
    "\n",
    "cnt = train[train.clicked==1].ad_id.value_counts()\n",
    "cntall = train.ad_id.value_counts()\n",
    "\n",
    "def get_prob(k):\n",
    "    if k not in cnt:\n",
    "        return 0\n",
    "    return cnt[k] / (float(cntall[k]) + reg)\n",
    "\n",
    "def srt(x):\n",
    "    ad_ids = map(int, x.split())\n",
    "    ad_ids = sorted(ad_ids, key=get_prob, reverse=True)\n",
    "    return \" \".join(map(str,ad_ids))\n",
    "   \n",
    "subm = pd.read_csv(\"../datasets/sample_submission.csv\") \n",
    "subm['ad_id'] = subm.ad_id.apply(lambda x: srt(x))\n",
    "subm.to_csv(\"submission_fran&mab_reg10.csv\", index=False)\n",
    "#subm.to_csv(\"submission_fran&mab_reg20.csv\", index=False)"
   ]
  },
  {
   "cell_type": "markdown",
   "metadata": {},
   "source": [
    "We finally got 0.63537 as our submission score. Here is the screenshot from Kaggle:"
   ]
  },
  {
   "cell_type": "markdown",
   "metadata": {},
   "source": [
    "<img src=\"../notebooks/result.jpg\" />"
   ]
  },
  {
   "cell_type": "markdown",
   "metadata": {},
   "source": [
    "## IX. Presentation link"
   ]
  },
  {
   "cell_type": "markdown",
   "metadata": {
    "collapsed": true
   },
   "source": [
    "Presentation Link: https://prezi.com/view/8e32KpnAeZ42cKUZoo3g/"
   ]
  },
  {
   "cell_type": "code",
   "execution_count": null,
   "metadata": {
    "collapsed": true
   },
   "outputs": [],
   "source": []
  }
 ],
 "metadata": {
  "kernelspec": {
   "display_name": "Python 2",
   "language": "python",
   "name": "python2"
  },
  "language_info": {
   "codemirror_mode": {
    "name": "ipython",
    "version": 2
   },
   "file_extension": ".py",
   "mimetype": "text/x-python",
   "name": "python",
   "nbconvert_exporter": "python",
   "pygments_lexer": "ipython2",
   "version": "2.7.10"
  }
 },
 "nbformat": 4,
 "nbformat_minor": 2
}
